{
 "cells": [
  {
   "cell_type": "markdown",
   "metadata": {},
   "source": [
    "# Switch Analysis\n",
    "##### David M. Freestone & Fuat Balci\n",
    "March 14, 2016"
   ]
  },
  {
   "cell_type": "markdown",
   "metadata": {},
   "source": [
    "### 1.0 Introduction"
   ]
  },
  {
   "cell_type": "markdown",
   "metadata": {},
   "source": [
    "This jupyter notebook shows how to analyze the data collected using the Psychopy Switch experiment accompanying xxx (the chapter).\n",
    "\n",
    "First, we need to tell Python what packages and functions we'll use in this analysis script. They come in the form of import statements"
   ]
  },
  {
   "cell_type": "code",
   "execution_count": 1,
   "metadata": {
    "collapsed": true
   },
   "outputs": [],
   "source": [
    "from glob import glob     # for finding data files\n",
    "from os.path import join  # for dealing with path names easily\n",
    "from ast import literal_eval # for converting a string of a list into a list\n",
    "\n",
    "from pandas import read_csv, concat, isnull     # reading in the data\n",
    "from scipy.stats import invgauss, expon, norm # useful distributions\n",
    "from scipy.optimize import minimize     # gradient descent fitting\n",
    "from numpy import array, arange, log, sqrt, hstack     # some math functions\n",
    "\n",
    "from matplotlib.pyplot import subplots, style  # for plotting\n",
    "style.use(\"fivethirtyeight\")                   # set figure style\n",
    "\n",
    "# Import entire packages, so we can explore later.\n",
    "import numpy as np\n",
    "import pandas as pd\n",
    "import matplotlib.pyplot as plt\n",
    "\n",
    "# Needed so plots show up in the jupyter notebook\n",
    "%matplotlib inline\n",
    "\n",
    "# Matplotlib spits out an annoying FutureWarning that we don't care about.\n",
    "# Suppress it\n",
    "import warnings\n",
    "warnings.simplefilter(action = \"ignore\", category = FutureWarning)"
   ]
  },
  {
   "cell_type": "markdown",
   "metadata": {},
   "source": [
    "Next we define the data directory, find all the \".csv\" files in the directory, and load them all into a pandas DataFrame"
   ]
  },
  {
   "cell_type": "code",
   "execution_count": 2,
   "metadata": {
    "collapsed": false
   },
   "outputs": [],
   "source": [
    "data_directory = \"data\"\n",
    "data_files = glob(join(data_directory, \"*.csv\"))\n",
    "data = concat([read_csv(f) for f in data_files])"
   ]
  },
  {
   "cell_type": "markdown",
   "metadata": {},
   "source": [
    "There are a lot of columns in this dataset that we'll probably never use (i.e., frameRate). It makes looking at the data easier if we remove them.\n",
    "\n",
    "We'll also remove any event that isn't a response (like the introduction and break screens)."
   ]
  },
  {
   "cell_type": "code",
   "execution_count": 3,
   "metadata": {
    "collapsed": false
   },
   "outputs": [],
   "source": [
    "columns = [\"participant\", \"session\", \"date\", \"time\", \n",
    "           \"block_number\", \"interval\", \"trial_number\", \n",
    "           \"response\", \"response_time\", \"score\",\n",
    "           \"p_short\", \"v_short\", \"v_long\", \"c_short\", \"c_long\"]\n",
    "trial_idx = data.trial_number > 0\n",
    "data = data.ix[trial_idx, columns]"
   ]
  },
  {
   "cell_type": "markdown",
   "metadata": {},
   "source": [
    "Pull out the task parameters"
   ]
  },
  {
   "cell_type": "code",
   "execution_count": 4,
   "metadata": {
    "collapsed": false
   },
   "outputs": [],
   "source": [
    "def task_parameters(data):\n",
    "    \"\"\"Return the task parameters from the dataframe into a tuple\n",
    "        (to pass into functions more cleanly)\n",
    "    \"\"\"\n",
    "    (v_short, v_long, \n",
    "     c_short, c_long,\n",
    "     p_short) = data.iloc[0][[\"v_short\", \"v_long\", \"c_short\", \"c_long\", \"p_short\"]]\n",
    "\n",
    "    p_long = 1-p_short\n",
    "    T_short, T_long = data.interval.min(), data.interval.max()\n",
    "\n",
    "    return (T_short, T_long, p_short, p_long,\n",
    "            v_short, v_long, c_short, c_long)\n",
    "\n",
    "task_params = task_parameters(data)"
   ]
  },
  {
   "cell_type": "markdown",
   "metadata": {},
   "source": [
    "##### 1.1 Switch times"
   ]
  },
  {
   "cell_type": "markdown",
   "metadata": {},
   "source": [
    "The key datum in the analysis are the switch times per trial. For completeness, the Psychopy Switch task records every response, not just the time of the switch. So we have to get the time of the switch per trial.\n",
    "\n",
    "There are a few things that can go wrong, though. For example, the participant could never switch by either pressing the short the entire time or pressing the long the entire time. Or, the participant can switch back to the short after already switching to the long. These cases may be interesting to study, but we'll remove them and only deal with \"clean\" trials."
   ]
  },
  {
   "cell_type": "code",
   "execution_count": 5,
   "metadata": {
    "collapsed": false
   },
   "outputs": [],
   "source": [
    "def switch_time(df):\n",
    "    \"\"\"Return the switch time on a single trial\"\"\"\n",
    "    short_times = df[df.response==\"left\"].response_time\n",
    "    long_times = df[df.response==\"right\"].response_time\n",
    "    \n",
    "    if (short_times.size < 1) or (long_times.size < 1):\n",
    "        # Didn't press one of the options, no switch\n",
    "        return None\n",
    "    elif short_times.max() > long_times.min():\n",
    "        # switched back to short at some point, no switch\n",
    "        return None\n",
    "    return long_times.iloc[0]     "
   ]
  },
  {
   "cell_type": "markdown",
   "metadata": {},
   "source": [
    "We get the switch times per subject, session, and trial, and only for long trials."
   ]
  },
  {
   "cell_type": "code",
   "execution_count": 6,
   "metadata": {
    "collapsed": false
   },
   "outputs": [],
   "source": [
    "long_trials = data.interval == 3\n",
    "group = [\"participant\", \"session\", \"trial_number\"]\n",
    "\n",
    "data = (data[long_trials].groupby(group)\n",
    "        .apply(switch_time)\n",
    "        .pipe(pd.DataFrame)\n",
    "        .rename(columns={0:\"switch_time\"})\n",
    "        .reset_index()\n",
    "        .dropna())"
   ]
  },
  {
   "cell_type": "markdown",
   "metadata": {},
   "source": [
    "### 2.0 Summary measures"
   ]
  },
  {
   "cell_type": "markdown",
   "metadata": {
    "collapsed": false,
    "scrolled": false
   },
   "source": [
    "##### 2.1 Summary statistics"
   ]
  },
  {
   "cell_type": "code",
   "execution_count": 7,
   "metadata": {
    "collapsed": false
   },
   "outputs": [
    {
     "data": {
      "text/plain": [
       "participant  session       \n",
       "DMF          1        count    17.000000\n",
       "                      mean      2.477279\n",
       "                      std       0.410282\n",
       "                      min       1.436948\n",
       "                      25%       2.339518\n",
       "                      50%       2.639986\n",
       "                      75%       2.691751\n",
       "                      max       2.940278\n",
       "             2        count    13.000000\n",
       "                      mean      2.466760\n",
       "                      std       0.261645\n",
       "                      min       2.121079\n",
       "                      25%       2.239262\n",
       "                      50%       2.406715\n",
       "                      75%       2.657226\n",
       "                      max       2.957327\n",
       "FB           1        count    20.000000\n",
       "                      mean      2.413076\n",
       "                      std       0.280987\n",
       "                      min       1.872804\n",
       "                      25%       2.184126\n",
       "                      50%       2.456896\n",
       "                      75%       2.595163\n",
       "                      max       2.858742\n",
       "             2        count    16.000000\n",
       "                      mean      2.381595\n",
       "                      std       0.453271\n",
       "                      min       0.969998\n",
       "                      25%       2.263452\n",
       "                      50%       2.457696\n",
       "                      75%       2.657627\n",
       "                      max       2.856685\n",
       "dtype: float64"
      ]
     },
     "execution_count": 7,
     "metadata": {},
     "output_type": "execute_result"
    }
   ],
   "source": [
    "group = [\"participant\", \"session\"]\n",
    "data.groupby(group).switch_time.describe()"
   ]
  },
  {
   "cell_type": "code",
   "execution_count": 8,
   "metadata": {
    "collapsed": false
   },
   "outputs": [
    {
     "data": {
      "text/html": [
       "<div>\n",
       "<table border=\"1\" class=\"dataframe\">\n",
       "  <thead>\n",
       "    <tr style=\"text-align: right;\">\n",
       "      <th></th>\n",
       "      <th></th>\n",
       "      <th>mean</th>\n",
       "      <th>std</th>\n",
       "      <th>sem</th>\n",
       "    </tr>\n",
       "    <tr>\n",
       "      <th>participant</th>\n",
       "      <th>session</th>\n",
       "      <th></th>\n",
       "      <th></th>\n",
       "      <th></th>\n",
       "    </tr>\n",
       "  </thead>\n",
       "  <tbody>\n",
       "    <tr>\n",
       "      <th rowspan=\"2\" valign=\"top\">DMF</th>\n",
       "      <th>1</th>\n",
       "      <td>2.477279</td>\n",
       "      <td>0.410282</td>\n",
       "      <td>0.099508</td>\n",
       "    </tr>\n",
       "    <tr>\n",
       "      <th>2</th>\n",
       "      <td>2.466760</td>\n",
       "      <td>0.261645</td>\n",
       "      <td>0.072567</td>\n",
       "    </tr>\n",
       "    <tr>\n",
       "      <th rowspan=\"2\" valign=\"top\">FB</th>\n",
       "      <th>1</th>\n",
       "      <td>2.413076</td>\n",
       "      <td>0.280987</td>\n",
       "      <td>0.062831</td>\n",
       "    </tr>\n",
       "    <tr>\n",
       "      <th>2</th>\n",
       "      <td>2.381595</td>\n",
       "      <td>0.453271</td>\n",
       "      <td>0.113318</td>\n",
       "    </tr>\n",
       "  </tbody>\n",
       "</table>\n",
       "</div>"
      ],
      "text/plain": [
       "                         mean       std       sem\n",
       "participant session                              \n",
       "DMF         1        2.477279  0.410282  0.099508\n",
       "            2        2.466760  0.261645  0.072567\n",
       "FB          1        2.413076  0.280987  0.062831\n",
       "            2        2.381595  0.453271  0.113318"
      ]
     },
     "execution_count": 8,
     "metadata": {},
     "output_type": "execute_result"
    }
   ],
   "source": [
    "data.groupby(group).switch_time.agg([\"mean\", \"std\", \"sem\"])"
   ]
  },
  {
   "cell_type": "markdown",
   "metadata": {},
   "source": [
    "##### 2.2 Scatter Plots"
   ]
  },
  {
   "cell_type": "code",
   "execution_count": 9,
   "metadata": {
    "collapsed": false
   },
   "outputs": [
    {
     "data": {
      "image/png": "[encoded data removed]",
      "text/plain": [
       "<matplotlib.figure.Figure at 0x115bbb9e8>"
      ]
     },
     "metadata": {},
     "output_type": "display_data"
    }
   ],
   "source": [
    "idx = data.participant==\"DMF\"\n",
    "y = data[idx].switch_time\n",
    "x = arange(1, y.size+1)\n",
    "\n",
    "fig, ax = subplots()\n",
    "ax.scatter(x, y, s=50)\n",
    "ax.hlines([2, 3], [0]*2, [1+x.max()]*2,\n",
    "          linestyle=\"--\", color=\"gray\")\n",
    "\n",
    "# Modify the axes\n",
    "ax.set_xlim((0, 1+x.max()))\n",
    "ax.set_xlabel(\"Trial number\", fontsize=22)\n",
    "ax.set_ylabel(\"Switch time (s)\", fontsize=22)\n",
    "ax.tick_params(labelsize=20)"
   ]
  },
  {
   "cell_type": "markdown",
   "metadata": {},
   "source": [
    "##### 2.3 Histograms"
   ]
  },
  {
   "cell_type": "code",
   "execution_count": 10,
   "metadata": {
    "collapsed": false
   },
   "outputs": [
    {
     "data": {
      "image/png": "[encoded data removed]",
      "text/plain": [
       "<matplotlib.figure.Figure at 0x115bbb780>"
      ]
     },
     "metadata": {},
     "output_type": "display_data"
    }
   ],
   "source": [
    "# Plot a histogram of the response times\n",
    "ax = data[data.participant==\"DMF\"].switch_time.hist();\n",
    "\n",
    "# plot a line at the DRL schedule\n",
    "ymin, ymax = ax.get_ylim()\n",
    "ax.vlines([2, 3], [ymin]*2, [ymax]*2, \n",
    "          linestyle=\"--\", color=\"gray\")\n",
    "\n",
    "# Label the x and y axes, and change the tick label size\n",
    "ax.set_xlabel(\"Switch time (s)\", fontsize=22)\n",
    "ax.set_ylabel(\"Count\", fontsize=22)\n",
    "ax.tick_params(labelsize=20)"
   ]
  },
  {
   "cell_type": "markdown",
   "metadata": {},
   "source": [
    "### 3.0 Fitting the switch time distribution\n"
   ]
  },
  {
   "cell_type": "markdown",
   "metadata": {},
   "source": [
    "In humans and rats, the switch times are normally distributed. In mice, they are sometimes a mixture distribution of an exponential and a Gaussian. The \"DRL_Analysis\" code shows how to fit a mixture distribution.\n",
    "\n",
    "Since humans and rats show normally distributed switch times, the maximum likelihood estimates of the parameters are the mean and standard deviation."
   ]
  },
  {
   "cell_type": "code",
   "execution_count": 11,
   "metadata": {
    "collapsed": false
   },
   "outputs": [],
   "source": [
    "# Can \"fit\" analytically since the parameters are μ=mean and σ=standard deviation\n",
    "fit_results = data.groupby([\"participant\"]).switch_time.agg([\"mean\", \"std\"])\n",
    "fit_results = fit_results.rename(columns={\"mean\": \"μ\", \"std\": \"σ\"})\n",
    "\n",
    "# Throw in γ\n",
    "fit_results[\"γ\"] = fit_results.σ / fit_results.μ"
   ]
  },
  {
   "cell_type": "markdown",
   "metadata": {},
   "source": [
    "##### 3.2 Visualizing the fits\n"
   ]
  },
  {
   "cell_type": "code",
   "execution_count": 12,
   "metadata": {
    "collapsed": false
   },
   "outputs": [
    {
     "data": {
      "text/plain": [
       "(0, 4)"
      ]
     },
     "execution_count": 12,
     "metadata": {},
     "output_type": "execute_result"
    },
    {
     "data": {
      "image/png": "[encoded data removed]",
      "text/plain": [
       "<matplotlib.figure.Figure at 0x115fec748>"
      ]
     },
     "metadata": {},
     "output_type": "display_data"
    }
   ],
   "source": [
    "participant = \"DMF\"\n",
    "# Pull out the parameters for one participant (and convert to a matrix)\n",
    "params = fit_results.ix[participant, [\"μ\", \"σ\"]].as_matrix()\n",
    "\n",
    "x = np.linspace(0, 3, 1000)\n",
    "\n",
    "st = data[data.participant==participant].switch_time.as_matrix()\n",
    "st_fit = norm.pdf(x, *params)\n",
    "\n",
    "# Plot\n",
    "fig, ax = subplots()\n",
    "ax.vlines([2, 3], [0]*2, [2]*2, linestyle=\"--\", color=\"gray\")\n",
    "\n",
    "ax.hist(st, bins=10, normed=True);\n",
    "ax.plot(x, st_fit)\n",
    "\n",
    "# Modify the axes\n",
    "ax.set_xlabel(\"Switch time (s)\", fontsize=22)\n",
    "ax.set_ylabel(\"Probability\", fontsize=22)\n",
    "ax.tick_params(labelsize=20)\n",
    "ax.set_xlim((0, 4))"
   ]
  },
  {
   "cell_type": "markdown",
   "metadata": {},
   "source": [
    "### 4.0 Assessing Optimality"
   ]
  },
  {
   "cell_type": "markdown",
   "metadata": {
    "collapsed": true
   },
   "source": [
    "We assume optimal behavior is to maximize the rewards per trial, again constrained by timing variability. In order to maximize reward, participants should switch at a time that best manages the tradeoff between (i) switching too early on short trials, (ii) switching too late on long trials, (iii) the probability of it being a short or long trial, (iv) the reward magnitudes and penalties associated with being correct on a short or long trial.\n",
    "\n",
    "The probability of a short trial is set by the experimenter at $p(s)$. The reward magnitudes for being correct on a short or long trial is $v(s)$ and $v(\\ell)$, respectively. The penalties are $c(s)$ and $c(\\ell)$ ($c$ for $c$ost)\n",
    "\n",
    "To minimize the errors (i and ii above), the participant should position his or her switches between the short and long durations. On short trials, this means the participant will have not yet switched by the short duration, and will earn the reward. On long trials, this means the participant will have already switched by the long duration, and will earn the reward. The probability of switching after the short duration is the fraction of switches that occur after the short duration. Assuming normally distributed switch times\n",
    "\n",
    "$$p(t \\ge s) = 1 - \\Phi(s;\\mu, \\sigma)$$\n",
    "\n",
    "where $\\Phi(s; \\mu, \\sigma)$ is the cumulative normal distribution evaluated at the short interval when the parameters of the participants switches $\\mu$ and $\\sigma$. The probability of switching before the long duration is\n",
    "\n",
    "$$p(t \\le \\ell) = \\Phi(\\ell;\\mu, \\sigma)$$\n",
    "\n",
    "And the probability of switching too early or too late are the complements. This means the expected value for each possible switch time are the four possible outcomes weighted by their probability of occurance.\n",
    "\n",
    "$$E[r] = v(s)p(s)p(t \\ge s) + v(\\ell)p(\\ell)p(t \\le \\ell) + c(s)p(s)p(t<s) + c(\\ell)p(\\ell)p(t>\\ell)$$\n",
    "\n",
    "We'll use the weber's fraction as the measure of timing variability so that $\\sigma = \\gamma \\mu$"
   ]
  },
  {
   "cell_type": "code",
   "execution_count": 13,
   "metadata": {
    "collapsed": true
   },
   "outputs": [],
   "source": [
    "def p_switchAfterShort(T, μ, γ):\n",
    "    \"\"\"Return the probability switching after the short duration\"\"\"\n",
    "    return 1 - norm.cdf(T, μ, γ*μ)\n",
    "\n",
    "def p_switchBeforeLong(T, μ, γ):\n",
    "    \"\"\"Return the probability of switching before the long duration\"\"\"\n",
    "    return norm.cdf(T, μ, γ*μ)\n",
    "\n",
    "def expected_reward(μ, γ, task_params):\n",
    "    \"\"\"Return the expected reward given μ and γ\"\"\"\n",
    "    (T_short, T_long, p_short, p_long,\n",
    "     v_short, v_long, c_short, c_long) = task_params\n",
    "    \n",
    "    return (  v_short*p_short*p_switchAfterShort(T_short, μ, γ)\n",
    "            + v_long*p_long*p_switchBeforeLong(T_long, μ, γ)\n",
    "            + c_short*p_short*(1-p_switchAfterShort(T_short, μ, γ))\n",
    "            + c_long*p_long*(1-p_switchBeforeLong(T_long, μ, γ)))"
   ]
  },
  {
   "cell_type": "markdown",
   "metadata": {},
   "source": [
    "The optimal rewards per trial depends on the participants choice of $\\mu$, constrained by their estimate of their own variability, $\\gamma$. The optimal switch time to have is the switch time $\\mu$ that maximizes the expected reward:\n",
    "\n",
    "$$\\mathrm{argmax}_\\mu E[r; \\gamma]$$\n",
    "\n",
    "The notation shows the dependence of $\\gamma$. This equation gives the reward maximizing relationship between $\\mu$ and $\\gamma$. Because its a function of $\\gamma$, the reward maximizing strategy is a infinite set of points that lay along an \"optimal performance curve\" ($OPC$)."
   ]
  },
  {
   "cell_type": "code",
   "execution_count": 14,
   "metadata": {
    "collapsed": true
   },
   "outputs": [],
   "source": [
    "def optimal(γ, task_params):\n",
    "    \"\"\"Return the optimal mean switch time given γ\"\"\"\n",
    "    T_long = task_params[1]\n",
    "    μ, γ = np.meshgrid(np.linspace(0, 1.5*T_long, 1000), γ)\n",
    "    r = expected_reward(μ, γ, task_params)\n",
    "\n",
    "    # When γ is very low (or zero), the expected value can't really be computed.\n",
    "    idx = ~np.isnan(r).all(axis=1)\n",
    "    γ = γ[idx, :]\n",
    "    r = r[idx, :]\n",
    "    return (μ[0, np.nanargmax(r, axis=1)], \n",
    "            np.nanmax(r, axis=1))"
   ]
  },
  {
   "cell_type": "markdown",
   "metadata": {},
   "source": [
    "The expected reward grows as a function of $\\mu$ because the probability that the participant switches after the short (thus earning reward on short trials) grows. But then the expected reward shrinks as a function of $\\mu$ because the probability that the participants switches after the long (thus failing to earn a reward on long trials) grows. The reward maximizing strategy is to choose a mean switch time $\\mu$ that best balances these errors, accounting for differential reward magnitudes, probabilities and costs."
   ]
  },
  {
   "cell_type": "code",
   "execution_count": 15,
   "metadata": {
    "collapsed": false
   },
   "outputs": [
    {
     "data": {
      "image/png": "[encoded data removed]",
      "text/plain": [
       "<matplotlib.figure.Figure at 0x116000208>"
      ]
     },
     "metadata": {},
     "output_type": "display_data"
    }
   ],
   "source": [
    "μ = np.linspace(0, 5, 1000)\n",
    "\n",
    "plt.rc('text', usetex=True)\n",
    "fig, ax = subplots()\n",
    "\n",
    "ax.vlines(task_params[:1], [0]*2, [1]*2, linestyle=\"--\", color=\"gray\")\n",
    "\n",
    "γp2 = expected_reward(μ, 0.2, task_params) # using it both to plot and for ylim computation\n",
    "ax.plot(μ, γp2, label=r\"$\\gamma = 0.2$\")\n",
    "ax.plot(μ, expected_reward(μ, 0.3, task_params), label=r\"$\\gamma = 0.3$\")\n",
    "ax.plot(μ, expected_reward(μ, 0.4, task_params), label=r\"$\\gamma = 0.4$\")\n",
    "\n",
    "μ_opt, r_opt = optimal(np.linspace(0, 0.5, 100), task_params)\n",
    "ax.plot(μ_opt, r_opt, color='k', label=\"$OPC$\")\n",
    "\n",
    "ax.set_ylim((0.9*np.nanmin(γp2), 1))\n",
    "ax.legend(loc=\"best\", fontsize=18, framealpha=0)\n",
    "ax.set_xlabel(\"Mean switch time, $\\mu$\", fontsize=22)\n",
    "ax.set_ylabel(\"Reward rate\", fontsize=22)\n",
    "ax.tick_params(labelsize=20)"
   ]
  },
  {
   "cell_type": "markdown",
   "metadata": {},
   "source": [
    "##### 3.1 Are the participants optimal?"
   ]
  },
  {
   "cell_type": "markdown",
   "metadata": {},
   "source": [
    "To assess the degree to which the participants are optimal, we have to find the optimal mean switch time per participant, and then compare it to their actual mean switch time."
   ]
  },
  {
   "cell_type": "code",
   "execution_count": 16,
   "metadata": {
    "collapsed": false
   },
   "outputs": [],
   "source": [
    "γ = fit_results.γ.as_matrix()\n",
    "μ = fit_results.μ.as_matrix()\n",
    "r = expected_reward(μ, γ, task_params)\n",
    "\n",
    "μ_opt, r_opt = optimal(γ, task_params)\n",
    "\n",
    "distance_from_optimal = μ / μ_opt\n",
    "proportion_maximum_gain = r / r_opt"
   ]
  },
  {
   "cell_type": "markdown",
   "metadata": {},
   "source": [
    "Now plot these two measures over participants"
   ]
  },
  {
   "cell_type": "code",
   "execution_count": 17,
   "metadata": {
    "collapsed": false
   },
   "outputs": [
    {
     "data": {
      "image/png": "[encoded data removed]",
      "text/plain": [
       "<matplotlib.figure.Figure at 0x116085208>"
      ]
     },
     "metadata": {},
     "output_type": "display_data"
    }
   ],
   "source": [
    "participants = fit_results.index.values\n",
    "nparticipants = len(participants)\n",
    "\n",
    "fig, ax = subplots(ncols=2, figsize=(9,5))\n",
    "ax_dist, ax_prop = ax\n",
    "\n",
    "# Plot the distance from optimal measure.\n",
    "ax_dist.bar(range(0,nparticipants), distance_from_optimal, align=\"center\");\n",
    "ax_dist.set_ylabel(\"distance from optimal\", fontsize=22)\n",
    "\n",
    "# Plot the distance from optimal measure.\n",
    "ax_prop.bar(range(0,nparticipants), proportion_maximum_gain, align=\"center\");\n",
    "ax_prop.set_ylabel(\"proportion maximum gain\", fontsize=22)\n",
    "\n",
    "# Mofidy both axes at the same time.\n",
    "for a in ax:\n",
    "    a.set_xticks(range(0, nparticipants))\n",
    "    a.set_xticklabels(participants)\n",
    "    a.set_ylim((0.9, 1))\n",
    "    a.set_xlabel(\"Participant\", fontsize=22)\n",
    "    a.tick_params(labelsize=20)\n",
    "fig.tight_layout()"
   ]
  }
 ],
 "metadata": {
  "kernelspec": {
   "display_name": "Python 3",
   "language": "python",
   "name": "python3"
  },
  "language_info": {
   "codemirror_mode": {
    "name": "ipython",
    "version": 3
   },
   "file_extension": ".py",
   "mimetype": "text/x-python",
   "name": "python",
   "nbconvert_exporter": "python",
   "pygments_lexer": "ipython3",
   "version": "3.4.4"
  }
 },
 "nbformat": 4,
 "nbformat_minor": 0
}
