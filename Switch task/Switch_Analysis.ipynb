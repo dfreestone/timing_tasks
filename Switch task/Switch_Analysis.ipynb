{
 "cells": [
  {
   "cell_type": "markdown",
   "metadata": {},
   "source": [
    "# Switch Analysis\n",
    "##### David M. Freestone & Fuat Balci\n",
    "March 14, 2016"
   ]
  },
  {
   "cell_type": "markdown",
   "metadata": {},
   "source": [
    "### 1.0 Introduction"
   ]
  },
  {
   "cell_type": "markdown",
   "metadata": {},
   "source": [
    "This jupyter notebook shows how to analyze the data collected using the Psychopy Switch experiment accompanying xxx (the chapter).\n",
    "\n",
    "First, we need to tell Python what packages and functions we'll use in this analysis script. They come in the form of import statements"
   ]
  },
  {
   "cell_type": "code",
   "execution_count": 116,
   "metadata": {
    "collapsed": true
   },
   "outputs": [],
   "source": [
    "from glob import glob     # for finding data files\n",
    "from os.path import join  # for dealing with path names easily\n",
    "from ast import literal_eval # for converting a string of a list into a list\n",
    "\n",
    "from pandas import read_csv, concat, isnull     # reading in the data\n",
    "from scipy.stats import invgauss, expon, norm # useful distributions\n",
    "from scipy.optimize import minimize     # gradient descent fitting\n",
    "from numpy import array, arange, log, sqrt, hstack     # some math functions\n",
    "\n",
    "from matplotlib.pyplot import subplots, style  # for plotting\n",
    "style.use(\"fivethirtyeight\")                   # set figure style\n",
    "\n",
    "# Import entire packages, so we can explore later.\n",
    "import numpy as np\n",
    "import pandas as pd\n",
    "import matplotlib.pyplot as plt\n",
    "\n",
    "# Needed so plots show up in the jupyter notebook\n",
    "%matplotlib inline\n",
    "\n",
    "# Matplotlib spits out an annoying FutureWarning that we don't care about.\n",
    "# Suppress it\n",
    "import warnings\n",
    "warnings.simplefilter(action = \"ignore\", category = FutureWarning)"
   ]
  },
  {
   "cell_type": "markdown",
   "metadata": {},
   "source": [
    "Next we define the data directory, find all the \".csv\" files in the directory, and load them all into a pandas DataFrame"
   ]
  },
  {
   "cell_type": "code",
   "execution_count": 123,
   "metadata": {
    "collapsed": true
   },
   "outputs": [],
   "source": [
    "data_directory = \"data\"\n",
    "data_files = glob(join(data_directory, \"*.csv\"))\n",
    "data = concat([read_csv(f) for f in data_files])"
   ]
  },
  {
   "cell_type": "markdown",
   "metadata": {},
   "source": [
    "There are a lot of columns in this dataset that we'll probably never use (i.e., frameRate). It makes looking at the data easier if we remove them.\n",
    "\n",
    "We'll also remove any event that isn't a response (like the introduction and break screens)."
   ]
  },
  {
   "cell_type": "code",
   "execution_count": 124,
   "metadata": {
    "collapsed": true
   },
   "outputs": [],
   "source": [
    "columns = [\"participant\", \"session\", \"date\", \"time\", \n",
    "           \"block_number\", \"interval\", \"trial_number\", \n",
    "           \"response\", \"response_time\", \"score\"]\n",
    "trial_idx = data.trial_number > 0\n",
    "data = data.ix[trial_idx, columns]"
   ]
  },
  {
   "cell_type": "markdown",
   "metadata": {},
   "source": [
    "##### 1.1 Switch times"
   ]
  },
  {
   "cell_type": "markdown",
   "metadata": {},
   "source": [
    "The key datum in the analysis are the switch times per trial. For completeness, the Psychopy Switch task records every response, not just the time of the switch. So we have to get the time of the switch per trial.\n",
    "\n",
    "There are a few things that can go wrong, though. For example, the participant could never switch by either pressing the short the entire time or pressing the long the entire time. Or, the participant can switch back to the short after already switching to the long. These cases may be interesting to study, but we'll remove them and only deal with \"clean\" trials."
   ]
  },
  {
   "cell_type": "code",
   "execution_count": 125,
   "metadata": {
    "collapsed": false
   },
   "outputs": [],
   "source": [
    "def switch_time(df):\n",
    "    \"\"\"Return the switch time on a single trial\"\"\"\n",
    "    short_times = df[df.response==\"left\"].response_time\n",
    "    long_times = df[df.response==\"right\"].response_time\n",
    "    \n",
    "    if (short_times.size < 1) or (long_times.size < 1):\n",
    "        # Didn't press one of the options, no switch\n",
    "        return None\n",
    "    elif short_times.max() > long_times.min():\n",
    "        # switched back to short at some point, no switch\n",
    "        return None\n",
    "    return long_times.iloc[0]     "
   ]
  },
  {
   "cell_type": "markdown",
   "metadata": {},
   "source": [
    "We get the switch times per subject, session, and trial, and only for long trials."
   ]
  },
  {
   "cell_type": "code",
   "execution_count": 126,
   "metadata": {
    "collapsed": false
   },
   "outputs": [],
   "source": [
    "long_trials = data.interval == 3\n",
    "group = [\"participant\", \"session\", \"trial_number\"]\n",
    "\n",
    "data = (data[long_trials].groupby(group)\n",
    "        .apply(switch_time)\n",
    "        .pipe(pd.DataFrame)\n",
    "        .rename(columns={0:\"switch_time\"})\n",
    "        .reset_index()\n",
    "        .dropna())"
   ]
  },
  {
   "cell_type": "markdown",
   "metadata": {},
   "source": [
    "### 2.0 Summary measures"
   ]
  },
  {
   "cell_type": "markdown",
   "metadata": {
    "collapsed": false,
    "scrolled": false
   },
   "source": [
    "##### 2.1 Summary statistics"
   ]
  },
  {
   "cell_type": "code",
   "execution_count": 127,
   "metadata": {
    "collapsed": false
   },
   "outputs": [
    {
     "data": {
      "text/plain": [
       "participant  session       \n",
       "DMF          1        count    16.000000\n",
       "                      mean      2.338386\n",
       "                      std       0.276139\n",
       "                      min       1.787769\n",
       "                      25%       2.179765\n",
       "                      50%       2.289071\n",
       "                      75%       2.531547\n",
       "                      max       2.840237\n",
       "             2        count    12.000000\n",
       "                      mean      2.279327\n",
       "                      std       0.424068\n",
       "                      min       1.704105\n",
       "                      25%       1.913127\n",
       "                      50%       2.272356\n",
       "                      75%       2.673367\n",
       "                      max       2.873847\n",
       "FB           1        count    16.000000\n",
       "                      mean      2.270374\n",
       "                      std       0.287839\n",
       "                      min       1.871740\n",
       "                      25%       2.045586\n",
       "                      50%       2.255689\n",
       "                      75%       2.426320\n",
       "                      max       2.907442\n",
       "             2        count    14.000000\n",
       "                      mean      2.244832\n",
       "                      std       0.346908\n",
       "                      min       1.904668\n",
       "                      25%       1.980609\n",
       "                      50%       2.130850\n",
       "                      75%       2.384577\n",
       "                      max       2.989624\n",
       "dtype: float64"
      ]
     },
     "execution_count": 127,
     "metadata": {},
     "output_type": "execute_result"
    }
   ],
   "source": [
    "group = [\"participant\", \"session\"]\n",
    "data.groupby(group).switch_time.describe()"
   ]
  },
  {
   "cell_type": "code",
   "execution_count": 128,
   "metadata": {
    "collapsed": false
   },
   "outputs": [
    {
     "data": {
      "text/html": [
       "<div>\n",
       "<table border=\"1\" class=\"dataframe\">\n",
       "  <thead>\n",
       "    <tr style=\"text-align: right;\">\n",
       "      <th></th>\n",
       "      <th></th>\n",
       "      <th>mean</th>\n",
       "      <th>std</th>\n",
       "      <th>sem</th>\n",
       "    </tr>\n",
       "    <tr>\n",
       "      <th>participant</th>\n",
       "      <th>session</th>\n",
       "      <th></th>\n",
       "      <th></th>\n",
       "      <th></th>\n",
       "    </tr>\n",
       "  </thead>\n",
       "  <tbody>\n",
       "    <tr>\n",
       "      <th rowspan=\"2\" valign=\"top\">DMF</th>\n",
       "      <th>1</th>\n",
       "      <td>2.338386</td>\n",
       "      <td>0.276139</td>\n",
       "      <td>0.069035</td>\n",
       "    </tr>\n",
       "    <tr>\n",
       "      <th>2</th>\n",
       "      <td>2.279327</td>\n",
       "      <td>0.424068</td>\n",
       "      <td>0.122418</td>\n",
       "    </tr>\n",
       "    <tr>\n",
       "      <th rowspan=\"2\" valign=\"top\">FB</th>\n",
       "      <th>1</th>\n",
       "      <td>2.270374</td>\n",
       "      <td>0.287839</td>\n",
       "      <td>0.071960</td>\n",
       "    </tr>\n",
       "    <tr>\n",
       "      <th>2</th>\n",
       "      <td>2.244832</td>\n",
       "      <td>0.346908</td>\n",
       "      <td>0.092715</td>\n",
       "    </tr>\n",
       "  </tbody>\n",
       "</table>\n",
       "</div>"
      ],
      "text/plain": [
       "                         mean       std       sem\n",
       "participant session                              \n",
       "DMF         1        2.338386  0.276139  0.069035\n",
       "            2        2.279327  0.424068  0.122418\n",
       "FB          1        2.270374  0.287839  0.071960\n",
       "            2        2.244832  0.346908  0.092715"
      ]
     },
     "execution_count": 128,
     "metadata": {},
     "output_type": "execute_result"
    }
   ],
   "source": [
    "data.groupby(group).switch_time.agg([\"mean\", \"std\", \"sem\"])"
   ]
  },
  {
   "cell_type": "markdown",
   "metadata": {},
   "source": [
    "##### 2.2 Scatter Plots"
   ]
  },
  {
   "cell_type": "code",
   "execution_count": 129,
   "metadata": {
    "collapsed": false
   },
   "outputs": [
    {
     "data": {
      "image/png": "[encoded data removed]",
      "text/plain": [
       "<matplotlib.figure.Figure at 0x116860358>"
      ]
     },
     "metadata": {},
     "output_type": "display_data"
    }
   ],
   "source": [
    "idx = data.participant==\"DMF\"\n",
    "y = data[idx].switch_time\n",
    "x = arange(1, y.size+1)\n",
    "\n",
    "fig, ax = subplots()\n",
    "ax.scatter(x, y, s=50)\n",
    "ax.hlines([2, 3], [0]*2, [1+x.max()]*2,\n",
    "          linestyle=\"--\", color=\"gray\")\n",
    "\n",
    "# Modify the axes\n",
    "ax.set_xlim((0, 1+x.max()))\n",
    "ax.set_xlabel(\"Trial number\", fontsize=22)\n",
    "ax.set_ylabel(\"Switch time (s)\", fontsize=22)\n",
    "ax.tick_params(labelsize=20)"
   ]
  },
  {
   "cell_type": "markdown",
   "metadata": {},
   "source": [
    "##### 2.3 Histograms"
   ]
  },
  {
   "cell_type": "code",
   "execution_count": 130,
   "metadata": {
    "collapsed": false
   },
   "outputs": [
    {
     "data": {
      "image/png": "[encoded data removed]",
      "text/plain": [
       "<matplotlib.figure.Figure at 0x117891dd8>"
      ]
     },
     "metadata": {},
     "output_type": "display_data"
    }
   ],
   "source": [
    "# Plot a histogram of the response times\n",
    "ax = data[data.participant==\"DMF\"].switch_time.hist();\n",
    "\n",
    "# plot a line at the DRL schedule\n",
    "ymin, ymax = ax.get_ylim()\n",
    "ax.vlines([2, 3], [ymin]*2, [ymax]*2, \n",
    "          linestyle=\"--\", color=\"gray\")\n",
    "\n",
    "# Label the x and y axes, and change the tick label size\n",
    "ax.set_xlabel(\"Switch time (s)\", fontsize=22)\n",
    "ax.set_ylabel(\"Count\", fontsize=22)\n",
    "ax.tick_params(labelsize=20)"
   ]
  },
  {
   "cell_type": "markdown",
   "metadata": {},
   "source": [
    "### 3.0 Fitting the switch time distribution\n"
   ]
  },
  {
   "cell_type": "markdown",
   "metadata": {},
   "source": [
    "In humans and rats, the switch times are normally distributed. In mice, they are sometimes a mixture distribution of an exponential and a Gaussian. The \"DRL_Analysis\" code shows how to fit a mixture distribution.\n",
    "\n",
    "Since humans and rats show normally distributed switch times, the maximum likelihood estimates of the parameters are the mean and standard deviation."
   ]
  },
  {
   "cell_type": "code",
   "execution_count": 140,
   "metadata": {
    "collapsed": false
   },
   "outputs": [],
   "source": [
    "# Can \"fit\" analytically since the parameters are μ=mean and σ=standard deviation\n",
    "fit_results = switch_df.groupby([\"participant\"]).switch_time.agg([\"mean\", \"std\"])\n",
    "fit_results = fit_results.rename(columns={\"mean\": \"μ\", \"std\": \"σ\"})"
   ]
  },
  {
   "cell_type": "markdown",
   "metadata": {},
   "source": [
    "##### 3.2 Visualizing the fits\n"
   ]
  },
  {
   "cell_type": "code",
   "execution_count": 142,
   "metadata": {
    "collapsed": false
   },
   "outputs": [
    {
     "data": {
      "image/png": "[encoded data removed]",
      "text/plain": [
       "<matplotlib.figure.Figure at 0x116ef7080>"
      ]
     },
     "metadata": {},
     "output_type": "display_data"
    }
   ],
   "source": [
    "participant = \"DMF\"\n",
    "# Pull out the parameters for one participant (and convert to a matrix)\n",
    "params = fit_results.ix[participant, [\"μ\", \"σ\"]].as_matrix()\n",
    "\n",
    "x = np.linspace(0, 3, 1000)\n",
    "\n",
    "st = data[data.participant==participant].switch_time.as_matrix()\n",
    "st_fit = norm.pdf(x, *params)\n",
    "\n",
    "# Plot\n",
    "fig, ax = subplots()\n",
    "ax.hist(st, bins=10, normed=True);\n",
    "ax.plot(x, st_fit)\n",
    "\n",
    "# Modify the axes\n",
    "ax.set_xlabel(\"Switch time (s)\", fontsize=22)\n",
    "ax.set_ylabel(\"Probability\", fontsize=22)\n",
    "ax.tick_params(labelsize=20)"
   ]
  },
  {
   "cell_type": "markdown",
   "metadata": {},
   "source": [
    "### 4.0 Assessing Optimality"
   ]
  },
  {
   "cell_type": "code",
   "execution_count": null,
   "metadata": {
    "collapsed": true
   },
   "outputs": [],
   "source": []
  }
 ],
 "metadata": {
  "kernelspec": {
   "display_name": "Python 3",
   "language": "python",
   "name": "python3"
  },
  "language_info": {
   "codemirror_mode": {
    "name": "ipython",
    "version": 3
   },
   "file_extension": ".py",
   "mimetype": "text/x-python",
   "name": "python",
   "nbconvert_exporter": "python",
   "pygments_lexer": "ipython3",
   "version": "3.4.4"
  }
 },
 "nbformat": 4,
 "nbformat_minor": 0
}
