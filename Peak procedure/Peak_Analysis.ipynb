{
 "cells": [
  {
   "cell_type": "markdown",
   "metadata": {},
   "source": [
    "# Peak Analysis\n",
    "##### David M. Freestone & Fuat Balci\n",
    "March 14, 2016"
   ]
  },
  {
   "cell_type": "markdown",
   "metadata": {},
   "source": [
    "# 1.0 Introduction"
   ]
  },
  {
   "cell_type": "markdown",
   "metadata": {},
   "source": [
    "This jupyter notebook shows how to analyze the data collected using the Psychopy Peak experiment accompanying xxx (the chapter).\n",
    "\n",
    "First, we need to tell Python what packages and functions we'll use in this analysis script. They come in the form of import statements"
   ]
  },
  {
   "cell_type": "code",
   "execution_count": 1,
   "metadata": {
    "collapsed": true
   },
   "outputs": [],
   "source": [
    "from glob import glob     # for finding data files\n",
    "from os.path import join  # for dealing with path names easily\n",
    "\n",
    "from pandas import read_csv, concat, isnull     # reading in the data\n",
    "from scipy.stats import invgauss, expon # useful distributions\n",
    "from scipy.optimize import minimize     # gradient descent fitting\n",
    "from numpy import (log, sqrt, hstack, histogram, # some math functions\n",
    "                   argmax, zeros, zeros_like, unravel_index)     \n",
    "from numba import jit # for JIT compilation\n",
    "\n",
    "from matplotlib.pyplot import subplots, style  # for plotting\n",
    "style.use(\"fivethirtyeight\")                   # set figure style\n",
    "\n",
    "# Import entire packages, so we can explore later.\n",
    "import numpy as np\n",
    "import pandas as pd\n",
    "import matplotlib.pyplot as plt\n",
    "\n",
    "# Needed so plots show up in the jupyter notebook\n",
    "%matplotlib inline\n",
    "\n",
    "# Matplotlib spits out an annoying FutureWarning that we don't care about.\n",
    "# Suppress it\n",
    "import warnings\n",
    "warnings.simplefilter(action = \"ignore\", category = FutureWarning)"
   ]
  },
  {
   "cell_type": "markdown",
   "metadata": {},
   "source": [
    "Next we define the data directory, find all the \".csv\" files in the directory, and load them all into a pandas DataFrame"
   ]
  },
  {
   "cell_type": "code",
   "execution_count": 70,
   "metadata": {
    "collapsed": true
   },
   "outputs": [],
   "source": [
    "data_directory = \"data\"\n",
    "data_files = glob(join(data_directory, \"*.csv\"))\n",
    "data = concat([read_csv(f) for f in data_files])"
   ]
  },
  {
   "cell_type": "markdown",
   "metadata": {},
   "source": [
    "There are a lot of columns in this dataset that we'll probably never use (i.e., frameRate). It makes looking at the data easier if we remove them.\n",
    "\n",
    "We'll also remove any event that isn't a response (like the introduction and break screens)."
   ]
  },
  {
   "cell_type": "code",
   "execution_count": 71,
   "metadata": {
    "collapsed": false
   },
   "outputs": [],
   "source": [
    "columns = [\"participant\", \"session\", \"date\", \"time\", \n",
    "           \"trial_number\", \"response_time\", \n",
    "           \"score\", \"total_score\", \"reward\", \"cost\", \n",
    "           \"is_fi_trial\", \"is_pi_trial\"]\n",
    "response_idx = data.trial_number > 0\n",
    "data = data.ix[response_idx, columns]\n",
    "\n",
    "# Convert is_fi_trial to readable text\n",
    "data[\"trial_type\"] = data.is_fi_trial.map({0:\"Peak\", 1:\"FI\"})"
   ]
  },
  {
   "cell_type": "markdown",
   "metadata": {},
   "source": [
    "### 2.0 Summary measures"
   ]
  },
  {
   "cell_type": "markdown",
   "metadata": {},
   "source": [
    "#### 2.1 Summary statistics"
   ]
  },
  {
   "cell_type": "code",
   "execution_count": 72,
   "metadata": {
    "collapsed": false
   },
   "outputs": [
    {
     "data": {
      "text/html": [
       "<div>\n",
       "<table border=\"1\" class=\"dataframe\">\n",
       "  <thead>\n",
       "    <tr style=\"text-align: right;\">\n",
       "      <th></th>\n",
       "      <th></th>\n",
       "      <th></th>\n",
       "      <th>mean</th>\n",
       "      <th>std</th>\n",
       "      <th>sem</th>\n",
       "    </tr>\n",
       "    <tr>\n",
       "      <th>participant</th>\n",
       "      <th>session</th>\n",
       "      <th>trial_type</th>\n",
       "      <th></th>\n",
       "      <th></th>\n",
       "      <th></th>\n",
       "    </tr>\n",
       "  </thead>\n",
       "  <tbody>\n",
       "    <tr>\n",
       "      <th rowspan=\"4\" valign=\"top\">DMF</th>\n",
       "      <th rowspan=\"2\" valign=\"top\">1</th>\n",
       "      <th>FI</th>\n",
       "      <td>2.219281</td>\n",
       "      <td>1.060191</td>\n",
       "      <td>0.089924</td>\n",
       "    </tr>\n",
       "    <tr>\n",
       "      <th>Peak</th>\n",
       "      <td>3.422731</td>\n",
       "      <td>1.965924</td>\n",
       "      <td>0.267528</td>\n",
       "    </tr>\n",
       "    <tr>\n",
       "      <th rowspan=\"2\" valign=\"top\">2</th>\n",
       "      <th>FI</th>\n",
       "      <td>2.260153</td>\n",
       "      <td>0.996422</td>\n",
       "      <td>0.082464</td>\n",
       "    </tr>\n",
       "    <tr>\n",
       "      <th>Peak</th>\n",
       "      <td>4.246294</td>\n",
       "      <td>1.363262</td>\n",
       "      <td>0.116899</td>\n",
       "    </tr>\n",
       "    <tr>\n",
       "      <th rowspan=\"4\" valign=\"top\">FB</th>\n",
       "      <th rowspan=\"2\" valign=\"top\">1</th>\n",
       "      <th>FI</th>\n",
       "      <td>2.432896</td>\n",
       "      <td>2.902310</td>\n",
       "      <td>0.229448</td>\n",
       "    </tr>\n",
       "    <tr>\n",
       "      <th>Peak</th>\n",
       "      <td>3.863712</td>\n",
       "      <td>1.434221</td>\n",
       "      <td>0.170211</td>\n",
       "    </tr>\n",
       "    <tr>\n",
       "      <th rowspan=\"2\" valign=\"top\">2</th>\n",
       "      <th>FI</th>\n",
       "      <td>2.206911</td>\n",
       "      <td>1.161174</td>\n",
       "      <td>0.097444</td>\n",
       "    </tr>\n",
       "    <tr>\n",
       "      <th>Peak</th>\n",
       "      <td>4.380881</td>\n",
       "      <td>1.674037</td>\n",
       "      <td>0.141482</td>\n",
       "    </tr>\n",
       "  </tbody>\n",
       "</table>\n",
       "</div>"
      ],
      "text/plain": [
       "                                    mean       std       sem\n",
       "participant session trial_type                              \n",
       "DMF         1       FI          2.219281  1.060191  0.089924\n",
       "                    Peak        3.422731  1.965924  0.267528\n",
       "            2       FI          2.260153  0.996422  0.082464\n",
       "                    Peak        4.246294  1.363262  0.116899\n",
       "FB          1       FI          2.432896  2.902310  0.229448\n",
       "                    Peak        3.863712  1.434221  0.170211\n",
       "            2       FI          2.206911  1.161174  0.097444\n",
       "                    Peak        4.380881  1.674037  0.141482"
      ]
     },
     "execution_count": 72,
     "metadata": {},
     "output_type": "execute_result"
    }
   ],
   "source": [
    "group = [\"participant\", \"session\", \"trial_type\"]\n",
    "data.groupby(group).response_time.agg([\"mean\", \"std\", \"sem\"])"
   ]
  },
  {
   "cell_type": "code",
   "execution_count": 73,
   "metadata": {
    "collapsed": false
   },
   "outputs": [
    {
     "data": {
      "text/plain": [
       "participant  session  trial_type       \n",
       "DMF          1        FI          count    139.000000\n",
       "                                  mean       2.219281\n",
       "                                  std        1.060191\n",
       "                                  min        0.000236\n",
       "                                  25%        1.863929\n",
       "                                  50%        2.479931\n",
       "                                  75%        2.940016\n",
       "                                  max        4.634060\n",
       "                      Peak        count     54.000000\n",
       "                                  mean       3.422731\n",
       "                                  std        1.965924\n",
       "                                  min        0.000268\n",
       "                                  25%        2.343368\n",
       "                                  50%        3.069971\n",
       "                                  75%        4.405179\n",
       "                                  max        8.298520\n",
       "             2        FI          count    146.000000\n",
       "                                  mean       2.260153\n",
       "                                  std        0.996422\n",
       "                                  min        0.000225\n",
       "                                  25%        2.063741\n",
       "                                  50%        2.554332\n",
       "                                  75%        2.920656\n",
       "                                  max        4.001949\n",
       "                      Peak        count    136.000000\n",
       "                                  mean       4.246294\n",
       "                                  std        1.363262\n",
       "                                  min        0.000270\n",
       "                                  25%        3.201497\n",
       "                                  50%        4.205230\n",
       "                                              ...    \n",
       "FB           1        FI          std        2.902310\n",
       "                                  min        0.000238\n",
       "                                  25%        1.809064\n",
       "                                  50%        2.572122\n",
       "                                  75%        2.934939\n",
       "                                  max       35.319660\n",
       "                      Peak        count     71.000000\n",
       "                                  mean       3.863712\n",
       "                                  std        1.434221\n",
       "                                  min        0.000261\n",
       "                                  25%        3.068674\n",
       "                                  50%        3.747829\n",
       "                                  75%        4.655799\n",
       "                                  max        6.771015\n",
       "             2        FI          count    142.000000\n",
       "                                  mean       2.206911\n",
       "                                  std        1.161174\n",
       "                                  min        0.000236\n",
       "                                  25%        1.990584\n",
       "                                  50%        2.598354\n",
       "                                  75%        2.971213\n",
       "                                  max        4.344513\n",
       "                      Peak        count    140.000000\n",
       "                                  mean       4.380881\n",
       "                                  std        1.674037\n",
       "                                  min        0.000274\n",
       "                                  25%        3.414600\n",
       "                                  50%        4.283495\n",
       "                                  75%        5.165347\n",
       "                                  max        8.702252\n",
       "Name: response_time, dtype: float64"
      ]
     },
     "execution_count": 73,
     "metadata": {},
     "output_type": "execute_result"
    }
   ],
   "source": [
    "data.groupby(group).response_time.describe()"
   ]
  },
  {
   "cell_type": "markdown",
   "metadata": {},
   "source": [
    "#### 2.2 Raster plots"
   ]
  },
  {
   "cell_type": "markdown",
   "metadata": {},
   "source": [
    "A raster plot is a scatter plot that gives conveys the time in every trial in which a response occurs. Its a convenient way to visualize both the response time and response rate.\n",
    "\n",
    "We'll plot the raster plot ignoring session boundaries. That is, we'll redefine trial_number to be the cumulative trial number across all sessions for a given trial type (i.e., separating Fixed Interval and Peak Interval trials)."
   ]
  },
  {
   "cell_type": "code",
   "execution_count": 74,
   "metadata": {
    "collapsed": true
   },
   "outputs": [],
   "source": [
    "def cumulative_trial(x):\n",
    "    \"\"\"Return the cumulative trial numbers ignoring session boundaries\"\"\"\n",
    "    x = hstack((0, x))\n",
    "    return (x[:-1] != x[1:]).cumsum()\n",
    "\n",
    "# Now apply the function on the trial_number column (transform), \n",
    "#   grouping by participant and trial type\n",
    "group = [\"participant\", \"trial_type\"]\n",
    "data[\"cumulative_trial\"] = data.groupby(group).trial_number.transform(cumulative_trial)"
   ]
  },
  {
   "cell_type": "code",
   "execution_count": 75,
   "metadata": {
    "collapsed": false
   },
   "outputs": [
    {
     "data": {
      "image/png": "[encoded data removed]",
      "text/plain": [
       "<matplotlib.figure.Figure at 0x115e38828>"
      ]
     },
     "metadata": {},
     "output_type": "display_data"
    }
   ],
   "source": [
    "def plot_raster(ax, x, y):\n",
    "    \"\"\"Plot the raster plot\"\"\"\n",
    "    ax.vlines(3, 0, 1+y.max(), color=\"gray\", zorder=1)\n",
    "    ax.scatter(x, y, s=20)\n",
    "    ax.set_xlim((0, 9))\n",
    "    ax.set_ylim((0, 1+y.max()))\n",
    "    ax.set_ylabel(\"Trial number\", fontsize=22)\n",
    "    ax.set_xlabel(\"Time in trial (s)\", fontsize=22)\n",
    "    ax.tick_params(labelsize=20)\n",
    "    return None\n",
    "\n",
    "\n",
    "# Plot the raster for DMF with FI and Peak side-by-side.\n",
    "p_idx = data.participant == \"DMF\"\n",
    "fi_idx = data.trial_type == \"FI\"\n",
    "\n",
    "fig, ax = plt.subplots(ncols=2, figsize=(8, 4))\n",
    "plot_raster(ax[0], \n",
    "            data.ix[p_idx & fi_idx, \"response_time\"],\n",
    "            data.ix[p_idx & fi_idx, \"cumulative_trial\"])\n",
    "plot_raster(ax[1], \n",
    "            data.ix[p_idx & ~fi_idx, \"response_time\"],\n",
    "            data.ix[p_idx & ~fi_idx, \"cumulative_trial\"])\n",
    "fig.tight_layout()"
   ]
  },
  {
   "cell_type": "markdown",
   "metadata": {},
   "source": [
    "#### 2.3 Response gradient"
   ]
  },
  {
   "cell_type": "markdown",
   "metadata": {},
   "source": [
    "A response gradient is a scaled histogram so that the units are responses per minute."
   ]
  },
  {
   "cell_type": "code",
   "execution_count": 76,
   "metadata": {
    "collapsed": false
   },
   "outputs": [
    {
     "data": {
      "image/png": "[encoded data removed]",
      "text/plain": [
       "<matplotlib.figure.Figure at 0x1120c8b70>"
      ]
     },
     "metadata": {},
     "output_type": "display_data"
    }
   ],
   "source": [
    "def response_gradient(df, binsize, end_time):\n",
    "    \"\"\"Return the histogram scaled to responses per minute\"\"\"\n",
    "    nbins = int(end_time / binsize)\n",
    "    \n",
    "    times = df.response_time\n",
    "    ntrials = df.cumulative_trial.max()\n",
    "    weights = (60/ntrials) + zeros_like(times)\n",
    "    \n",
    "    count, bins = histogram(times, bins=nbins, range=(0, end_time), weights=weights)\n",
    "    bins = bins[:-1]\n",
    "    return count, bins\n",
    "\n",
    "def plot_response_gradient(ax, df, binsize, end_time, label=None):\n",
    "    \"\"\"Plot the response gradient\"\"\"\n",
    "    count, bins = response_gradient(df, binsize, end_time)\n",
    "    ax.step(bins, count, label=label)\n",
    "    ax.vlines(3, 0, ax.get_ylim()[1], color=\"gray\", zorder=1)\n",
    "    ax.set_xlim((0, end_time))\n",
    "    ax.set_ylim(bottom=0)\n",
    "    ax.tick_params(labelsize=20)\n",
    "    ax.set_xlabel(\"Time in trial (s)\", fontsize=22)\n",
    "    ax.set_ylabel(\"Responses per minute\", fontsize=22)\n",
    "    \n",
    "    \n",
    "# Plot the DMF data as responses per minute\n",
    "fig, ax = plt.subplots(figsize=(6,6))\n",
    "plot_response_gradient(ax, data[p_idx & fi_idx], 0.15, 3, label=\"FI\")\n",
    "plot_response_gradient(ax, data[p_idx & ~fi_idx], 0.15, 9, label=\"Peak\")\n",
    "ax.legend(fontsize=22)\n",
    "fig.tight_layout()"
   ]
  },
  {
   "cell_type": "markdown",
   "metadata": {},
   "source": [
    "### 2.4 Statistics of the Peak curve"
   ]
  },
  {
   "cell_type": "markdown",
   "metadata": {},
   "source": [
    "In the chapter, we discuss several ways of obtaining statistics from the peak gradient. The first is nonparametric (i.e., without assuming a distribution form), and the second is parametric. The parametric approach is often a little more challenging to implement, but it can be prefered because it jointly estimates all the statistics at once. In addition, it does not require any further processing of the data (e.g., smoothing).\n",
    "\n",
    "For the peak data, we want to obtain the peak time, spread, and amplitude. The first two come from the parameters of an appropriate distribution (say, normal), and the amplitude comes from scaling that distribution).\n",
    "\n",
    "When the data is normally distributed, the best fitting normal distribution has as its parameters the mean and standard deviation of the response times themselves. Note this is only true in Peak data, not in FI data, because FI data is not normally distributed. For FI data, or data that is not normally distributed, the appropriate distribution should be fit to the data (see the DRL_Analysis.ipynb file for an example)."
   ]
  },
  {
   "cell_type": "code",
   "execution_count": 77,
   "metadata": {
    "collapsed": false
   },
   "outputs": [
    {
     "data": {
      "text/html": [
       "<div>\n",
       "<table border=\"1\" class=\"dataframe\">\n",
       "  <thead>\n",
       "    <tr style=\"text-align: right;\">\n",
       "      <th></th>\n",
       "      <th>mean</th>\n",
       "      <th>std</th>\n",
       "      <th>CoV</th>\n",
       "    </tr>\n",
       "    <tr>\n",
       "      <th>participant</th>\n",
       "      <th></th>\n",
       "      <th></th>\n",
       "      <th></th>\n",
       "    </tr>\n",
       "  </thead>\n",
       "  <tbody>\n",
       "    <tr>\n",
       "      <th>DMF</th>\n",
       "      <td>4.012229</td>\n",
       "      <td>1.596870</td>\n",
       "      <td>0.398001</td>\n",
       "    </tr>\n",
       "    <tr>\n",
       "      <th>FB</th>\n",
       "      <td>4.206857</td>\n",
       "      <td>1.612633</td>\n",
       "      <td>0.383334</td>\n",
       "    </tr>\n",
       "  </tbody>\n",
       "</table>\n",
       "</div>"
      ],
      "text/plain": [
       "                 mean       std       CoV\n",
       "participant                              \n",
       "DMF          4.012229  1.596870  0.398001\n",
       "FB           4.206857  1.612633  0.383334"
      ]
     },
     "execution_count": 77,
     "metadata": {},
     "output_type": "execute_result"
    }
   ],
   "source": [
    "pi_trials = data[data.trial_type == \"Peak\"]\n",
    "\n",
    "peak_statistics = pi_trials.groupby([\"participant\"]).response_time.agg([\"mean\", \"std\"])\n",
    "peak_statistics[\"CoV\"] = peak_statistics[\"std\"] / peak_statistics[\"mean\"]\n",
    "\n",
    "peak_statistics"
   ]
  },
  {
   "cell_type": "markdown",
   "metadata": {},
   "source": [
    "The peak amplitude is the response rate at the peak. This of course depends on the bin size used to construct the response rate gradient because the response rate at the exact peak time is arbitrarily small. "
   ]
  },
  {
   "cell_type": "code",
   "execution_count": 78,
   "metadata": {
    "collapsed": false
   },
   "outputs": [
    {
     "data": {
      "text/html": [
       "<div>\n",
       "<table border=\"1\" class=\"dataframe\">\n",
       "  <thead>\n",
       "    <tr style=\"text-align: right;\">\n",
       "      <th></th>\n",
       "      <th>mean</th>\n",
       "      <th>std</th>\n",
       "      <th>CoV</th>\n",
       "      <th>amplitude</th>\n",
       "    </tr>\n",
       "    <tr>\n",
       "      <th>participant</th>\n",
       "      <th></th>\n",
       "      <th></th>\n",
       "      <th></th>\n",
       "      <th></th>\n",
       "    </tr>\n",
       "  </thead>\n",
       "  <tbody>\n",
       "    <tr>\n",
       "      <th>DMF</th>\n",
       "      <td>4.012229</td>\n",
       "      <td>1.596870</td>\n",
       "      <td>0.398001</td>\n",
       "      <td>28.000000</td>\n",
       "    </tr>\n",
       "    <tr>\n",
       "      <th>FB</th>\n",
       "      <td>4.206857</td>\n",
       "      <td>1.612633</td>\n",
       "      <td>0.383334</td>\n",
       "      <td>43.333333</td>\n",
       "    </tr>\n",
       "  </tbody>\n",
       "</table>\n",
       "</div>"
      ],
      "text/plain": [
       "                 mean       std       CoV  amplitude\n",
       "participant                                         \n",
       "DMF          4.012229  1.596870  0.398001  28.000000\n",
       "FB           4.206857  1.612633  0.383334  43.333333"
      ]
     },
     "execution_count": 78,
     "metadata": {},
     "output_type": "execute_result"
    }
   ],
   "source": [
    "def peak_amplitude(df, binsize):\n",
    "    \"\"\"Return the peak amplitude assuming a normal distribution\"\"\"\n",
    "    t = df.response_time\n",
    "    n = df.cumulative_trial.max()\n",
    "    \n",
    "    μ = t.mean()\n",
    "    μ_lowerbin = μ-binsize/2\n",
    "    μ_upperbin = μ+binsize/2\n",
    "    count = ((μ_lowerbin <= t) & (t < μ_upperbin)).sum()\n",
    "    return 60 * (count/n)\n",
    "\n",
    "peak_statistics[\"amplitude\"] = pi_trials.groupby(\"participant\").apply(peak_amplitude, 0.15)\n",
    "\n",
    "peak_statistics"
   ]
  },
  {
   "cell_type": "markdown",
   "metadata": {},
   "source": [
    "### 3.0 Finding the start and stop times"
   ]
  },
  {
   "cell_type": "markdown",
   "metadata": {},
   "source": [
    "The most common way to find the start and stop times is to use the Church, Meck, & Gibbon (CMG; 1994) change-point algorithm. For start times, it is formally equivalent to Gallistel, Fiarhurst, & Balsam (2004), and both are special cases of the OLS-CUSUM method in econometrics (Ploberger & Kramer, 1992).\n",
    "\n",
    "Intuitively, the CMG algorithm finds the point at which the response rate before and after the transition point together maximally deviate from the average response rate (see xx figure x). \n",
    "\n",
    "The start and stop times are the times $t_1$ and $t_2$ that maximize the equation\n",
    "\n",
    "$$t_1(r-r_1) + t_2(r_2-r) + t_3(r-r_3)$$\n",
    "\n",
    "where $t_1$ and $t_2$ are times in the trial, and $r_1$, $r_2$, $r_3$ are the response rates in the first, second, and third segments (low-high-low states), and $r$ is the overall response rate. For FI trials, where there is no meaningful stop time, the equation reduces to\n",
    "\n",
    "$$t_1(r-r_1) + t_2(r_2-r)$$\n",
    "\n",
    "Since we often compute the transition point over hundreds or thousands of trials or more, we'll use Just In Time (JIT) compilation to speed up the code"
   ]
  },
  {
   "cell_type": "code",
   "execution_count": 79,
   "metadata": {
    "collapsed": true
   },
   "outputs": [],
   "source": [
    "@jit(nopython=True)\n",
    "def start_time(times, end_time):\n",
    "    \"\"\"Return the start time on a trial using CMG 1994\"\"\"\n",
    "    n, t = times.size, end_time\n",
    "    r = n / t\n",
    "    CMG = zeros(n)\n",
    "    for i in range(n):\n",
    "        t1, t2 = times[i], t - times[i]\n",
    "        n1, n2 = 1+i, 1+(n-i)  # add one bc python is 0-based indexing\n",
    "\n",
    "        r1 = n1 / t1\n",
    "        r2 = n2 / t2\n",
    "        \n",
    "        CMG[i] = t1*(r-r1) + t2*(r2-r)\n",
    "    return times[argmax(CMG)]\n",
    " \n",
    "def gstart_time(t):\n",
    "    \"\"\"Wrapper for start_time\n",
    "        Because we used JIT compilation on the above functions\n",
    "        to compile them down to machine code (to speed things up),\n",
    "        we can't pass in DataFrame or Series objects. \n",
    "        Here's a simple wrapper that converts the Series to an\n",
    "        array that can be safely passed to our JITed function.\n",
    "    \"\"\"\n",
    "    end_time = 3\n",
    "    return start_time(t.as_matrix(), end_time)"
   ]
  },
  {
   "cell_type": "markdown",
   "metadata": {},
   "source": [
    "### 3.1 Finding the start times on FI trials"
   ]
  },
  {
   "cell_type": "code",
   "execution_count": 80,
   "metadata": {
    "collapsed": true
   },
   "outputs": [],
   "source": [
    "fi_trials = data[data.trial_type == \"FI\"]"
   ]
  },
  {
   "cell_type": "markdown",
   "metadata": {},
   "source": [
    "This analysis works on each individual trial for each participant and session, so we need to group by these variables. But since we already got the cumulative trial (ignoring session), we can just group by participant and cumulative trial."
   ]
  },
  {
   "cell_type": "code",
   "execution_count": 81,
   "metadata": {
    "collapsed": false
   },
   "outputs": [],
   "source": [
    "# Wrap in () so we can split lines at its readable joints\n",
    "starts = (data.groupby([\"participant\", \"cumulative_trial\"])\n",
    "              .response_time\n",
    "              .agg(gstart_time)\n",
    "          )\n",
    "\n",
    "# convert from pandas Series to DataFrame, and rename the result\n",
    "starts = pd.DataFrame(starts).reset_index()\n",
    "starts = starts.rename(columns={\"response_time\": \"start_time\"})"
   ]
  },
  {
   "cell_type": "markdown",
   "metadata": {},
   "source": [
    "Get the mean start time over our subjects for each trial"
   ]
  },
  {
   "cell_type": "code",
   "execution_count": 82,
   "metadata": {
    "collapsed": false
   },
   "outputs": [],
   "source": [
    "mean_starttime = starts.groupby(\"cumulative_trial\").agg([\"mean\", \"sem\"])\n",
    "mean_starttime = mean_starttime.reset_index()"
   ]
  },
  {
   "cell_type": "markdown",
   "metadata": {},
   "source": [
    "Now plot, with errorbars."
   ]
  },
  {
   "cell_type": "code",
   "execution_count": 83,
   "metadata": {
    "collapsed": false
   },
   "outputs": [
    {
     "data": {
      "image/png": "[encoded data removed]",
      "text/plain": [
       "<matplotlib.figure.Figure at 0x11523ff60>"
      ]
     },
     "metadata": {},
     "output_type": "display_data"
    }
   ],
   "source": [
    "dmf_idx = starts.participant == \"DMF\"\n",
    "\n",
    "x = starts.ix[dmf_idx, \"cumulative_trial\"]\n",
    "y = starts.ix[dmf_idx, \"start_time\"]\n",
    "\n",
    "fig, ax = plt.subplots(figsize=(8,4))\n",
    "ax.errorbar(mean_starttime[\"cumulative_trial\"],\n",
    "             mean_starttime.start_time[\"mean\"],\n",
    "             mean_starttime.start_time[\"sem\"],\n",
    "             linestyle=\"\", fmt=\"o\")\n",
    "ax.scatter(x, y, color=\"#ff9999\")\n",
    "\n",
    "ax.set_xlim((0, 1+x.max()))\n",
    "ax.set_ylim((0, 9))\n",
    "ax.set_xlabel(\"Trial number\", fontsize=22)\n",
    "ax.set_ylabel(\"Start time (s)\", fontsize=22)\n",
    "ax.tick_params(labelsize=20)\n",
    "ax.set_yticks([0, 3, 9]);"
   ]
  },
  {
   "cell_type": "markdown",
   "metadata": {},
   "source": [
    "### 3.2 Finding the start and stop times on Peak trials"
   ]
  },
  {
   "cell_type": "markdown",
   "metadata": {},
   "source": [
    "As we note in the chapter, human data is often much easier to analyze at the single trial level because the first response is often a good estimate of the start time and the last response is often a good estimate of the stop time.\n",
    "\n",
    "If this isn't true in your data, it is relatively straightforward to extend the CMG algorithm written above to the start-stop times. We use the first and last response here to allow us to show both approaches."
   ]
  },
  {
   "cell_type": "code",
   "execution_count": 84,
   "metadata": {
    "collapsed": true
   },
   "outputs": [],
   "source": [
    "def start_stop_time(t):\n",
    "    \"\"\"Return the start and stop time\n",
    "        assuming the start is the first response\n",
    "        and the stop is the last response\n",
    "    \"\"\"\n",
    "    return t.iloc[0], t.iloc[-1]"
   ]
  },
  {
   "cell_type": "code",
   "execution_count": 85,
   "metadata": {
    "collapsed": false,
    "scrolled": false
   },
   "outputs": [],
   "source": [
    "pi_trials = data[data.trial_type == \"Peak\"]\n",
    "\n",
    "# In python, its easy to chain commands together in a human readable way.\n",
    "starts_stops = (pi_trials.groupby([\"participant\", \"cumulative_trial\"])\n",
    "                         .response_time           # operate on the response_time column\n",
    "                         .apply(start_stop_time)  # apply the function\n",
    "                         .apply(pd.Series)        # convert output to separate columns\n",
    "                         .reset_index()           # turn indices into columns\n",
    "                         .rename(columns={0:\"start_time\", 1:\"stop_time\"})      # give the output useful names\n",
    "                )\n",
    "\n",
    "mean_start_stops = starts_stops.groupby(\"cumulative_trial\").agg([\"mean\", \"sem\"])\n",
    "mean_start_stops = mean_start_stops.reset_index()"
   ]
  },
  {
   "cell_type": "code",
   "execution_count": 86,
   "metadata": {
    "collapsed": false
   },
   "outputs": [
    {
     "data": {
      "text/plain": [
       "<matplotlib.legend.Legend at 0x116acb550>"
      ]
     },
     "execution_count": 86,
     "metadata": {},
     "output_type": "execute_result"
    },
    {
     "data": {
      "image/png": "[encoded data removed]",
      "text/plain": [
       "<matplotlib.figure.Figure at 0x116ab15c0>"
      ]
     },
     "metadata": {},
     "output_type": "display_data"
    }
   ],
   "source": [
    "# This code is mostly copy/paste from above. \n",
    "# For generality, this could go into a separate function\n",
    "fig, ax = plt.subplots(figsize=(8,4))\n",
    "ax.errorbar(mean_start_stops[\"cumulative_trial\"],\n",
    "             mean_start_stops.start_time[\"mean\"],\n",
    "             mean_start_stops.start_time[\"sem\"],\n",
    "             linestyle=\"\", fmt=\"o\",\n",
    "             label=\"start time\")\n",
    "ax.errorbar(mean_start_stops[\"cumulative_trial\"],\n",
    "             mean_start_stops.stop_time[\"mean\"],\n",
    "             mean_start_stops.stop_time[\"sem\"],\n",
    "             linestyle=\"\", fmt=\"o\", color=\"#ff8533\",\n",
    "             label=\"stop time\")\n",
    "\n",
    "ax.set_xlim((0, 25))\n",
    "ax.set_ylim((-1, 9))\n",
    "ax.set_xlabel(\"Trial number\", fontsize=22)\n",
    "ax.set_ylabel(\"Time (s)\", fontsize=22)\n",
    "ax.tick_params(labelsize=20)\n",
    "ax.set_yticks([0, 3, 9]);\n",
    "ax.legend(loc=\"center right\", fontsize=18)"
   ]
  },
  {
   "cell_type": "markdown",
   "metadata": {},
   "source": [
    "### 3.3 Single trial peak and spread"
   ]
  },
  {
   "cell_type": "markdown",
   "metadata": {},
   "source": [
    "The spread is the temporal distance between the start and stop times ($stop - start$). The peak is often defined as the midpoint between the two"
   ]
  },
  {
   "cell_type": "code",
   "execution_count": 87,
   "metadata": {
    "collapsed": true
   },
   "outputs": [],
   "source": [
    "starts_stops[\"spread\"] = starts_stops[\"stop_time\"] - starts_stops[\"start_time\"]\n",
    "starts_stops[\"peak\"] = (starts_stops[\"stop_time\"] + starts_stops[\"start_time\"]) / 2"
   ]
  },
  {
   "cell_type": "code",
   "execution_count": 88,
   "metadata": {
    "collapsed": false
   },
   "outputs": [
    {
     "data": {
      "text/html": [
       "<div>\n",
       "<table border=\"1\" class=\"dataframe\">\n",
       "  <thead>\n",
       "    <tr>\n",
       "      <th></th>\n",
       "      <th colspan=\"2\" halign=\"left\">cumulative_trial</th>\n",
       "      <th colspan=\"2\" halign=\"left\">start_time</th>\n",
       "      <th colspan=\"2\" halign=\"left\">stop_time</th>\n",
       "      <th colspan=\"2\" halign=\"left\">spread</th>\n",
       "      <th colspan=\"2\" halign=\"left\">peak</th>\n",
       "    </tr>\n",
       "    <tr>\n",
       "      <th></th>\n",
       "      <th>mean</th>\n",
       "      <th>sem</th>\n",
       "      <th>mean</th>\n",
       "      <th>sem</th>\n",
       "      <th>mean</th>\n",
       "      <th>sem</th>\n",
       "      <th>mean</th>\n",
       "      <th>sem</th>\n",
       "      <th>mean</th>\n",
       "      <th>sem</th>\n",
       "    </tr>\n",
       "    <tr>\n",
       "      <th>participant</th>\n",
       "      <th></th>\n",
       "      <th></th>\n",
       "      <th></th>\n",
       "      <th></th>\n",
       "      <th></th>\n",
       "      <th></th>\n",
       "      <th></th>\n",
       "      <th></th>\n",
       "      <th></th>\n",
       "      <th></th>\n",
       "    </tr>\n",
       "  </thead>\n",
       "  <tbody>\n",
       "    <tr>\n",
       "      <th>DMF</th>\n",
       "      <td>8.0</td>\n",
       "      <td>1.154701</td>\n",
       "      <td>1.631637</td>\n",
       "      <td>0.417475</td>\n",
       "      <td>5.536975</td>\n",
       "      <td>0.503303</td>\n",
       "      <td>3.905339</td>\n",
       "      <td>0.567949</td>\n",
       "      <td>3.584306</td>\n",
       "      <td>0.364909</td>\n",
       "    </tr>\n",
       "    <tr>\n",
       "      <th>FB</th>\n",
       "      <td>9.5</td>\n",
       "      <td>1.258306</td>\n",
       "      <td>1.397569</td>\n",
       "      <td>0.354272</td>\n",
       "      <td>6.195696</td>\n",
       "      <td>0.335914</td>\n",
       "      <td>4.798127</td>\n",
       "      <td>0.477039</td>\n",
       "      <td>3.796632</td>\n",
       "      <td>0.249563</td>\n",
       "    </tr>\n",
       "  </tbody>\n",
       "</table>\n",
       "</div>"
      ],
      "text/plain": [
       "            cumulative_trial           start_time           stop_time  \\\n",
       "                        mean       sem       mean       sem      mean   \n",
       "participant                                                             \n",
       "DMF                      8.0  1.154701   1.631637  0.417475  5.536975   \n",
       "FB                       9.5  1.258306   1.397569  0.354272  6.195696   \n",
       "\n",
       "                         spread                peak            \n",
       "                  sem      mean       sem      mean       sem  \n",
       "participant                                                    \n",
       "DMF          0.503303  3.905339  0.567949  3.584306  0.364909  \n",
       "FB           0.335914  4.798127  0.477039  3.796632  0.249563  "
      ]
     },
     "execution_count": 88,
     "metadata": {},
     "output_type": "execute_result"
    }
   ],
   "source": [
    "starts_stops.groupby(\"participant\").agg([\"mean\", \"sem\"])"
   ]
  },
  {
   "cell_type": "markdown",
   "metadata": {},
   "source": [
    "### 3.4 An alternative algorithm for starts and stops"
   ]
  },
  {
   "cell_type": "markdown",
   "metadata": {},
   "source": [
    "First, we take the cumulative sum of inter-response times in each peak interval trial. The first response time should be set to the delay to the first response. We then fit a linear line to the cumulative sum of the inter-response times and compute the residuals for each data point (data-estimated values). Note that responding during break period leads to higher slopes (long IRTs) whereas responding during run period leads to lower slopes (short IRTs) since what is plotted is the inverse of the response rate. \n",
    "\n",
    " \n",
    "\n",
    "The minimum residual (a negative value) is estimated as the stop time. Following the detection of the stop time, the maximum value from the first data to the stop time is estimated as the start time. Note that this method should be used for the initial characterization of the data. It is a lot faster than the iterative methods revealing valid estimates especially when the difference in response rates during break periods and run period is large. We have validated this method based on simulated data that is characterized by break-run-break pattern."
   ]
  },
  {
   "cell_type": "code",
   "execution_count": 141,
   "metadata": {
    "collapsed": false,
    "scrolled": false
   },
   "outputs": [],
   "source": [
    "def starts_and_stops(t):\n",
    "    t = t.as_matrix()\n",
    "    if t.size < 2:\n",
    "        return np.nan\n",
    "    \n",
    "    ct = t.cumsum()\n",
    "\n",
    "    # Fit the cumulative data\n",
    "    x = np.arange(1, 1+t.size)\n",
    "    slope, intercept = np.polyfit(x, ct, 1)\n",
    "\n",
    "    # Get the residuals\n",
    "    dt = ct - (intercept+slope*x)\n",
    "\n",
    "    # The indices tell us where the start and stop is.\n",
    "    stoploc = np.argmin(dt)\n",
    "    \n",
    "    if stoploc == 1:\n",
    "        return np.nan, np.nan\n",
    "    else:\n",
    "        startloc = np.argmax(dt[1:stoploc])\n",
    "        return t[startloc], t[stoploc]"
   ]
  },
  {
   "cell_type": "markdown",
   "metadata": {},
   "source": [
    "No we apply the function on the response times using the same idea as before."
   ]
  },
  {
   "cell_type": "code",
   "execution_count": 142,
   "metadata": {
    "collapsed": false,
    "scrolled": false
   },
   "outputs": [],
   "source": [
    "pi_trials = data[data.trial_type == \"Peak\"]\n",
    "\n",
    "# In python, its easy to chain commands together in a human readable way.\n",
    "starts_stops = (pi_trials.groupby([\"participant\", \"cumulative_trial\"])\n",
    "                         .response_time           # operate on the response_time column\n",
    "                         .apply(starts_and_stops)  # apply the function\n",
    "                         .apply(pd.Series)        # convert output to separate columns\n",
    "                         .reset_index()           # turn indices into columns\n",
    "                         .rename(columns={0:\"start_time\", 1:\"stop_time\"})      # give the output useful names\n",
    "                )\n",
    "\n",
    "mean_start_stops = starts_stops.groupby(\"cumulative_trial\").agg([\"mean\", \"sem\"])\n",
    "mean_start_stops = mean_start_stops.reset_index()"
   ]
  },
  {
   "cell_type": "markdown",
   "metadata": {},
   "source": [
    "And plot, using the same code as before."
   ]
  },
  {
   "cell_type": "code",
   "execution_count": 144,
   "metadata": {
    "collapsed": false
   },
   "outputs": [
    {
     "data": {
      "text/plain": [
       "<matplotlib.legend.Legend at 0x1184c3710>"
      ]
     },
     "execution_count": 144,
     "metadata": {},
     "output_type": "execute_result"
    },
    {
     "data": {
      "image/png": "[encoded data removed]",
      "text/plain": [
       "<matplotlib.figure.Figure at 0x1184c3780>"
      ]
     },
     "metadata": {},
     "output_type": "display_data"
    }
   ],
   "source": [
    "fig, ax = plt.subplots(figsize=(8,4))\n",
    "ax.errorbar(mean_start_stops[\"cumulative_trial\"],\n",
    "             mean_start_stops.start_time[\"mean\"],\n",
    "             mean_start_stops.start_time[\"sem\"],\n",
    "             linestyle=\"\", fmt=\"o\",\n",
    "             label=\"start time\")\n",
    "ax.errorbar(mean_start_stops[\"cumulative_trial\"],\n",
    "             mean_start_stops.stop_time[\"mean\"],\n",
    "             mean_start_stops.stop_time[\"sem\"],\n",
    "             linestyle=\"\", fmt=\"o\", color=\"#ff8533\",\n",
    "             label=\"stop time\")\n",
    "\n",
    "ax.set_xlim((0, 25))\n",
    "ax.set_ylim((-1, 9))\n",
    "ax.set_xlabel(\"Trial number\", fontsize=22)\n",
    "ax.set_ylabel(\"Time (s)\", fontsize=22)\n",
    "ax.tick_params(labelsize=20)\n",
    "ax.set_yticks([0, 3, 9]);\n",
    "ax.legend(loc=\"center right\", fontsize=18)"
   ]
  },
  {
   "cell_type": "code",
   "execution_count": null,
   "metadata": {
    "collapsed": true
   },
   "outputs": [],
   "source": []
  }
 ],
 "metadata": {
  "kernelspec": {
   "display_name": "Python [default]",
   "language": "python",
   "name": "python3"
  },
  "language_info": {
   "codemirror_mode": {
    "name": "ipython",
    "version": 3
   },
   "file_extension": ".py",
   "mimetype": "text/x-python",
   "name": "python",
   "nbconvert_exporter": "python",
   "pygments_lexer": "ipython3",
   "version": "3.5.2"
  },
  "latex_envs": {
   "bibliofile": "biblio.bib",
   "cite_by": "apalike",
   "current_citInitial": 1,
   "eqLabelWithNumbers": true,
   "eqNumInitial": 0
  }
 },
 "nbformat": 4,
 "nbformat_minor": 0
}
