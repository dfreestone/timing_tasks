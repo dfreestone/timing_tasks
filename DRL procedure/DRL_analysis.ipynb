{
 "cells": [
  {
   "cell_type": "markdown",
   "metadata": {},
   "source": [
    "# DRL Analysis\n",
    "##### David M. Freestone & Fuat Balci\n",
    "March 14, 2016"
   ]
  },
  {
   "cell_type": "markdown",
   "metadata": {},
   "source": [
    "### 1.0 Introduction"
   ]
  },
  {
   "cell_type": "markdown",
   "metadata": {},
   "source": [
    "This jupyter notebook shows how to analyze the data collected using the Psychopy DRL experiment accompanying xxx (the chapter).\n",
    "\n",
    "First, we need to tell Python what packages and functions we'll use in this analysis script. They come in the form of import statements"
   ]
  },
  {
   "cell_type": "code",
   "execution_count": 1,
   "metadata": {
    "collapsed": true
   },
   "outputs": [],
   "source": [
    "from glob import glob     # for finding data files\n",
    "from os.path import join  # for dealing with path names easily\n",
    "\n",
    "from pandas import read_csv, concat, isnull     # reading in the data\n",
    "from scipy.stats import invgauss, expon # useful distributions\n",
    "from scipy.optimize import minimize     # gradient descent fitting\n",
    "from numpy import log, sqrt, hstack     # some math functions\n",
    "\n",
    "from matplotlib.pyplot import subplots, style  # for plotting\n",
    "style.use(\"fivethirtyeight\")                   # set figure style\n",
    "\n",
    "# Import entire packages, so we can explore later.\n",
    "import numpy as np\n",
    "import pandas as pd\n",
    "import matplotlib.pyplot as plt\n",
    "\n",
    "# Needed so plots show up in the jupyter notebook\n",
    "%matplotlib inline\n",
    "\n",
    "# Matplotlib spits out an annoying FutureWarning that we don't care about.\n",
    "# Suppress it\n",
    "import warnings\n",
    "warnings.simplefilter(action = \"ignore\", category = FutureWarning)"
   ]
  },
  {
   "cell_type": "markdown",
   "metadata": {},
   "source": [
    "Next we define the data directory, find all the \".csv\" files in the directory, and load them all into a pandas DataFrame"
   ]
  },
  {
   "cell_type": "code",
   "execution_count": 2,
   "metadata": {
    "collapsed": false
   },
   "outputs": [],
   "source": [
    "data_directory = \"data\"\n",
    "data_files = glob(join(data_directory, \"*.csv\"))\n",
    "data = concat([read_csv(f) for f in data_files])"
   ]
  },
  {
   "cell_type": "markdown",
   "metadata": {},
   "source": [
    "There are a lot of columns in this dataset that we'll probably never use (i.e., frameRate). It makes looking at the data easier if we remove them.\n",
    "\n",
    "We'll also remove any event that isn't a response (like the introduction and break screens)."
   ]
  },
  {
   "cell_type": "code",
   "execution_count": 3,
   "metadata": {
    "collapsed": false
   },
   "outputs": [],
   "source": [
    "columns = [\"participant\", \"session\", \"date\", \"time\", \n",
    "           \"block_number\", \"interval\", \"response_number\", \"rt\", \"score\"]\n",
    "response_idx = data.response_number > 0\n",
    "data = data.ix[response_idx, columns]"
   ]
  },
  {
   "cell_type": "markdown",
   "metadata": {},
   "source": [
    "### 2.0 Summary measures"
   ]
  },
  {
   "cell_type": "markdown",
   "metadata": {},
   "source": [
    "##### 2.1 Summary statistics"
   ]
  },
  {
   "cell_type": "code",
   "execution_count": 4,
   "metadata": {
    "collapsed": false
   },
   "outputs": [
    {
     "data": {
      "text/plain": [
       "participant  session       \n",
       "DMF          1        count    42.000000\n",
       "                      mean      5.920628\n",
       "                      std       1.266047\n",
       "                      min       2.890917\n",
       "                      25%       4.980147\n",
       "                      50%       5.811434\n",
       "                      75%       7.026199\n",
       "                      max       8.434857\n",
       "             2        count    35.000000\n",
       "                      mean      6.214265\n",
       "                      std       1.127713\n",
       "                      min       3.205073\n",
       "                      25%       5.512486\n",
       "                      50%       6.246831\n",
       "                      75%       6.930705\n",
       "                      max       9.017498\n",
       "FB           1        count    31.000000\n",
       "                      mean      6.215768\n",
       "                      std       0.731521\n",
       "                      min       4.761803\n",
       "                      25%       5.828247\n",
       "                      50%       5.996234\n",
       "                      75%       6.431193\n",
       "                      max       8.286986\n",
       "             2        count    34.000000\n",
       "                      mean      6.018428\n",
       "                      std       0.954429\n",
       "                      min       3.958313\n",
       "                      25%       5.343140\n",
       "                      50%       5.987712\n",
       "                      75%       6.537173\n",
       "                      max       8.436327\n",
       "dtype: float64"
      ]
     },
     "execution_count": 4,
     "metadata": {},
     "output_type": "execute_result"
    }
   ],
   "source": [
    "group = [\"participant\", \"session\"]\n",
    "data.groupby(group).rt.describe()"
   ]
  },
  {
   "cell_type": "code",
   "execution_count": 5,
   "metadata": {
    "collapsed": false
   },
   "outputs": [
    {
     "data": {
      "text/html": [
       "<div>\n",
       "<table border=\"1\" class=\"dataframe\">\n",
       "  <thead>\n",
       "    <tr style=\"text-align: right;\">\n",
       "      <th></th>\n",
       "      <th></th>\n",
       "      <th>mean</th>\n",
       "      <th>std</th>\n",
       "      <th>sem</th>\n",
       "    </tr>\n",
       "    <tr>\n",
       "      <th>participant</th>\n",
       "      <th>session</th>\n",
       "      <th></th>\n",
       "      <th></th>\n",
       "      <th></th>\n",
       "    </tr>\n",
       "  </thead>\n",
       "  <tbody>\n",
       "    <tr>\n",
       "      <th rowspan=\"2\" valign=\"top\">DMF</th>\n",
       "      <th>1</th>\n",
       "      <td>5.920628</td>\n",
       "      <td>1.266047</td>\n",
       "      <td>0.195355</td>\n",
       "    </tr>\n",
       "    <tr>\n",
       "      <th>2</th>\n",
       "      <td>6.214265</td>\n",
       "      <td>1.127713</td>\n",
       "      <td>0.190618</td>\n",
       "    </tr>\n",
       "    <tr>\n",
       "      <th rowspan=\"2\" valign=\"top\">FB</th>\n",
       "      <th>1</th>\n",
       "      <td>6.215768</td>\n",
       "      <td>0.731521</td>\n",
       "      <td>0.131385</td>\n",
       "    </tr>\n",
       "    <tr>\n",
       "      <th>2</th>\n",
       "      <td>6.018428</td>\n",
       "      <td>0.954429</td>\n",
       "      <td>0.163683</td>\n",
       "    </tr>\n",
       "  </tbody>\n",
       "</table>\n",
       "</div>"
      ],
      "text/plain": [
       "                         mean       std       sem\n",
       "participant session                              \n",
       "DMF         1        5.920628  1.266047  0.195355\n",
       "            2        6.214265  1.127713  0.190618\n",
       "FB          1        6.215768  0.731521  0.131385\n",
       "            2        6.018428  0.954429  0.163683"
      ]
     },
     "execution_count": 5,
     "metadata": {},
     "output_type": "execute_result"
    }
   ],
   "source": [
    "data.groupby(group).rt.agg([\"mean\", \"std\", \"sem\"])"
   ]
  },
  {
   "cell_type": "markdown",
   "metadata": {},
   "source": [
    "##### 2.2 Scatter Plots"
   ]
  },
  {
   "cell_type": "code",
   "execution_count": 6,
   "metadata": {
    "collapsed": false
   },
   "outputs": [
    {
     "data": {
      "image/png": "[encoded data removed]",
      "text/plain": [
       "<matplotlib.figure.Figure at 0x115bc26d8>"
      ]
     },
     "metadata": {},
     "output_type": "display_data"
    }
   ],
   "source": [
    "idx = data.participant==\"DMF\"\n",
    "x = data[idx].response_number\n",
    "y = data[idx].rt\n",
    "\n",
    "fig, ax = subplots()\n",
    "ax.scatter(x, y, s=50)\n",
    "ax.hlines(data[idx].interval, 0, 1+x.max(),\n",
    "          linestyle=\"--\", color=\"gray\")\n",
    "\n",
    "# Modify the axes\n",
    "ax.set_xlim((0, 1+x.max()))\n",
    "ax.set_xlabel(\"Response number\", fontsize=22)\n",
    "ax.set_ylabel(\"Interresponse time (s)\", fontsize=22)\n",
    "ax.tick_params(labelsize=20)"
   ]
  },
  {
   "cell_type": "markdown",
   "metadata": {},
   "source": [
    "##### 2.3 Histograms"
   ]
  },
  {
   "cell_type": "code",
   "execution_count": 7,
   "metadata": {
    "collapsed": false,
    "scrolled": true
   },
   "outputs": [
    {
     "data": {
      "image/png": "[encoded data removed]",
      "text/plain": [
       "<matplotlib.figure.Figure at 0x1051aa7f0>"
      ]
     },
     "metadata": {},
     "output_type": "display_data"
    }
   ],
   "source": [
    "# Plot a histogram of the response times\n",
    "ax = data[data.participant==\"DMF\"].rt.hist();\n",
    "\n",
    "# plot a line at the DRL schedule\n",
    "ymin, ymax = ax.get_ylim()\n",
    "ax.vlines(5, ymin, ymax, \n",
    "          linestyle=\"--\", color=\"gray\")\n",
    "\n",
    "# Label the x and y axes, and change the tick label size\n",
    "ax.set_xlabel(\"Interresponse time\", fontsize=22)\n",
    "ax.set_ylabel(\"Count\", fontsize=22)\n",
    "ax.tick_params(labelsize=20)"
   ]
  },
  {
   "cell_type": "markdown",
   "metadata": {},
   "source": [
    "### 3.0 Fitting the interresponse time distribution"
   ]
  },
  {
   "cell_type": "markdown",
   "metadata": {},
   "source": [
    "In humans, the interresponse time is often close to normally distributed, although an inverse gaussian distribution is slightly better. In rats, there are often many \"untimed\" responses that follow an exponential distribution.\n",
    "\n",
    "While we probably don't need to fit a mixture distribution here, we do so for the purposes of this tutorial.\n",
    "\n",
    "The interresponse time distribution is a mixture of \"timed\" and \"untimed\" interresponse times, with some fraction ($p$) coming from the timed distribution (inverse gaussian) and the other fraction ($1-p$) coming from an exponential.\n",
    "\n",
    "$$p(x) = pIG(x; \\mu, \\lambda_{IG}) + (1-p)\\lambda e^{-\\lambda_{e}t}$$\n",
    "\n",
    "where \n",
    "\n",
    "$$IG(x; \\mu, \\lambda_{IG}) = \\sqrt{\\frac{\\lambda_{IG}}{2\\pi x^3}}e^{\\frac{\\lambda_{IG}(x-\\mu)^2}{2\\mu^2x}}$$\n",
    "\n",
    "and \n",
    "\n",
    "$$\\lambda_{IG} = \\frac{\\mu}{\\gamma^2}$$\n",
    "\n",
    "where $\\gamma$ is the weber fraction."
   ]
  },
  {
   "cell_type": "markdown",
   "metadata": {},
   "source": [
    "##### 3.1 Estimate the parameters"
   ]
  },
  {
   "cell_type": "code",
   "execution_count": 8,
   "metadata": {
    "collapsed": false
   },
   "outputs": [],
   "source": [
    "from scipy.stats import invgauss, expon # import the two functions we need\n",
    "IGpdf = invgauss.pdf\n",
    "exppdf = expon.pdf\n",
    "\n",
    "def expIG(x, p, μ, λ_IG, λ_e):\n",
    "    \"\"\"Return the expIG evaluated at x\n",
    "        Note that this is in \"standardized form\n",
    "        so that mu = μ\\λ_IG.\n",
    "    \"\"\"\n",
    "    return p*IGpdf(x, mu=μ/λ_IG, scale=λ_IG) + (1-p)*exppdf(x, λ_e)\n",
    "\n",
    "def weber(μ, λ):\n",
    "    return sqrt(μ/λ)"
   ]
  },
  {
   "cell_type": "markdown",
   "metadata": {},
   "source": [
    "Now we can use gradient descent algorithms to get the maximum likely parameters of the expIG mixture distribution. We'll use the \"Nelder-Mead\" simplex method because it does not require estimating the likelihood function. The drawback to this method is that constraining the parameters is not a straightforward issue. We'll use the simplest method, because its good enough for our purposes."
   ]
  },
  {
   "cell_type": "code",
   "execution_count": 9,
   "metadata": {
    "collapsed": false
   },
   "outputs": [],
   "source": [
    "def log_likelihood(params, x):\n",
    "    \"\"\"Return the log likelihood of x\"\"\"\n",
    "    p, μ, λ_IG, λ_e = params\n",
    "    \n",
    "    return log(expIG(x, p, μ, λ_IG, λ_e)).sum()\n",
    "\n",
    "def negative_llk(params, x):\n",
    "    \"\"\"Return the negative log-likelihood of x\n",
    "        or 100000 (a really big number) if the \n",
    "        constraints are not met\n",
    "    \"\"\"\n",
    "    if constraints(params):\n",
    "        return -log_likelihood(params, x)\n",
    "    else:\n",
    "        return 100000\n",
    "    \n",
    "def constraints(params):\n",
    "    \"\"\"Return True if the constraints are met, else False\"\"\"\n",
    "    p, μ, λ_IG, λ_e = params\n",
    "    if (p < 0) or (p > 1): return False\n",
    "    if μ < 0: return False\n",
    "    if λ_IG < 0: return False\n",
    "    if λ_e < 0: return False\n",
    "    return True\n",
    "\n",
    "def fit(D, p0):\n",
    "    \"\"\"Return the fitted params, \n",
    "        plus the -LLK and whether the fit succeeded\n",
    "    \"\"\"\n",
    "    result = minimize(negative_llk, p0, args=D, method=\"Nelder-Mead\")\n",
    "    return hstack((result.x, result.fun, result.success))"
   ]
  },
  {
   "cell_type": "markdown",
   "metadata": {},
   "source": [
    "Now we'll fit each participant, pooling over sessions, and add the weber fraction ($\\gamma$) to the results"
   ]
  },
  {
   "cell_type": "code",
   "execution_count": 10,
   "metadata": {
    "collapsed": false
   },
   "outputs": [],
   "source": [
    "initial_estimate = [0.9, 5, 100, 100]\n",
    "\n",
    "# Do the fitting on each participant.\n",
    "fit_results = data.groupby(\"participant\").rt.apply(fit, initial_estimate)\n",
    "\n",
    "# Prettify the DataFrame\n",
    "fit_results = fit_results.apply(pd.Series)\n",
    "fit_results.columns = [\"p\", \"μ\", \"λ_IG\", \"λ_e\", \"negLLK\", \"Success\"]\n",
    "\n",
    "# Add the weber fraction to the DataFrame\n",
    "fit_results[\"γ\"] = weber(fit_results[\"μ\"], fit_results[\"λ_IG\"])"
   ]
  },
  {
   "cell_type": "markdown",
   "metadata": {},
   "source": [
    "##### 3.2 Visualizing the fits"
   ]
  },
  {
   "cell_type": "code",
   "execution_count": 11,
   "metadata": {
    "collapsed": false
   },
   "outputs": [
    {
     "data": {
      "image/png": "[encoded data removed]",
      "text/plain": [
       "<matplotlib.figure.Figure at 0x115bc2518>"
      ]
     },
     "metadata": {},
     "output_type": "display_data"
    }
   ],
   "source": [
    "participant = \"DMF\"\n",
    "# Pull out the parameters for one participant (and convert to a matrix)\n",
    "params = fit_results.ix[participant, [\"p\", \"μ\", \"λ_IG\", \"λ_e\"]].as_matrix()\n",
    "\n",
    "x = np.linspace(0, 15, 1000)\n",
    "\n",
    "rt = data[data.participant==participant].rt.as_matrix()\n",
    "rt_fit = expIG(x, *params)\n",
    "\n",
    "# Plot\n",
    "fig, ax = subplots()\n",
    "ax.hist(rt, bins=10, normed=True);\n",
    "ax.plot(x, rt_fit)\n",
    "\n",
    "# Modify the axes\n",
    "ax.set_xlabel(\"Interresponse time (s)\", fontsize=22)\n",
    "ax.set_ylabel(\"Probability\", fontsize=22)\n",
    "ax.tick_params(labelsize=20)"
   ]
  },
  {
   "cell_type": "markdown",
   "metadata": {},
   "source": [
    "### 4.0 Assessing Optimality"
   ]
  },
  {
   "cell_type": "markdown",
   "metadata": {},
   "source": [
    "We assume optimal behavior is to maximize the reward rate. The reward rate on this task is the probability of obtaining a reward divided by the time between rewards:\n",
    "\n",
    "$$\\frac{p(R)}{\\mu}$$\n",
    "\n",
    "where \n",
    "\n",
    "$$p(R) = p(t>T)$$\n",
    "\n",
    "that is, the probability of a reward is just the fraction of trials in which the interresponse time $t$ was greater than the DRL schedule $T$. Assuming the timed portion of the interresponse time distribution follows an inverse gaussian, the probability of a reward is\n",
    "\n",
    "$$= 1-p(t\\le T)$$\n",
    "\n",
    "$$= 1-IG_{cdf}(T; \\mu, \\lambda_{IG})$$\n",
    "\n",
    "So that the expected reward rate is:\n",
    "$$E[r] = \\frac{1-IG_{cdf}(T; \\mu, \\lambda_{IG})}{\\mu}$$\n"
   ]
  },
  {
   "cell_type": "code",
   "execution_count": 12,
   "metadata": {
    "collapsed": true
   },
   "outputs": [],
   "source": [
    "IGcdf = invgauss.cdf\n",
    "def p_reward(T, μ, γ):\n",
    "    λ_IG = μ/(γ**2)\n",
    "    return 1 - IGcdf(T, mu=μ/λ_IG, scale=λ_IG)\n",
    "\n",
    "def reward_rate(T, μ, γ):\n",
    "    return p_reward(T, μ, γ) / μ"
   ]
  },
  {
   "cell_type": "markdown",
   "metadata": {},
   "source": [
    "The optimal reward rate is the mean interresponse time that maximizes the reward rate\n",
    "\n",
    "$$\\mathrm{argmax}_\\mu E[r; \\gamma]$$\n",
    "\n",
    "The notation shows the dependence of $\\gamma$. This equation gives the reward maximizing relationship between $\\mu$ and $\\gamma$. Because its a function of $\\gamma$, the reward maximizing strategy is a infinite set of points that lay along an \"optimal performance curve\" ($OPC$)."
   ]
  },
  {
   "cell_type": "code",
   "execution_count": 13,
   "metadata": {
    "collapsed": true
   },
   "outputs": [],
   "source": [
    "def optimal(T, γ):\n",
    "    \"\"\"Return the optimal mean interresponse time given γ\"\"\"\n",
    "    μ, γ = np.meshgrid(np.linspace(0, 3*T, 1000), γ)\n",
    "    r = reward_rate(T, μ, γ)\n",
    "\n",
    "    # The first few γ values have to be thrown out because there's no good way to get the\n",
    "    # reward rate at very low γ.\n",
    "    idx = ~np.isnan(r).all(axis=1)\n",
    "    γ = γ[idx, :]\n",
    "    r = r[idx, :]\n",
    "    return (μ[0, np.nanargmax(r, axis=1)], \n",
    "            np.nanmax(r, axis=1))"
   ]
  },
  {
   "cell_type": "markdown",
   "metadata": {},
   "source": [
    "The reward rate grows over $\\mu$ because the probability of a reward grows as the mean interresponse time grows. But the reward rate shrinks over $\\mu$ because the time between rewards grows as the mean interresponse time grows. The $\\mu$ at which their influences cross is the reward maximizing interresponse time. This depends on the participant's timing variability $\\gamma$ because $\\gamma$ governs the rate at which the probability of a reward grows over $\\mu$.\n",
    "\n",
    "Here is a plot of the reward rate for different values of $\\gamma$. We also plot the Optimal Performance Curve (in black) that shows the reward rate earned for an optimal participant, given their timing variability $\\gamma$."
   ]
  },
  {
   "cell_type": "code",
   "execution_count": 14,
   "metadata": {
    "collapsed": false,
    "scrolled": false
   },
   "outputs": [
    {
     "data": {
      "image/png": "[encoded data removed]",
      "text/plain": [
       "<matplotlib.figure.Figure at 0x116016320>"
      ]
     },
     "metadata": {},
     "output_type": "display_data"
    }
   ],
   "source": [
    "T = 5\n",
    "μ = np.linspace(0, 15, 1000)\n",
    "\n",
    "plt.rc('text', usetex=True)\n",
    "fig, ax = subplots()\n",
    "\n",
    "ax.vlines(T, 0, 0.2, linestyle=\"--\", color=\"gray\")\n",
    "\n",
    "ax.plot(μ, reward_rate(T, μ, 0.2), label=r\"$\\gamma = 0.2$\")\n",
    "ax.plot(μ, reward_rate(T, μ, 0.3), label=r\"$\\gamma = 0.3$\")\n",
    "ax.plot(μ, reward_rate(T, μ, 0.4), label=r\"$\\gamma = 0.4$\")\n",
    "\n",
    "μ_opt, r_opt = optimal(5, np.linspace(0, 1.2, 100))\n",
    "ax.plot(μ_opt, r_opt, color='k', label=\"$OPC$\")\n",
    "\n",
    "ax.legend(loc=\"best\", fontsize=18, framealpha=0)\n",
    "ax.set_xlabel(\"Mean interresponse time, $\\mu$\", fontsize=22)\n",
    "ax.set_ylabel(\"Reward rate\", fontsize=22)\n",
    "ax.tick_params(labelsize=20)"
   ]
  },
  {
   "cell_type": "markdown",
   "metadata": {},
   "source": [
    "##### 3.1 Are the participants optimal?"
   ]
  },
  {
   "cell_type": "markdown",
   "metadata": {},
   "source": [
    "To assess the degree to which the participants are optimal, we have to find the optimal mean interresponse time per participant, and then compare it to their actual mean interresponse time."
   ]
  },
  {
   "cell_type": "code",
   "execution_count": 15,
   "metadata": {
    "collapsed": true
   },
   "outputs": [],
   "source": [
    "γ = fit_results.γ.as_matrix()\n",
    "μ = fit_results.μ.as_matrix()\n",
    "r = reward_rate(5, μ, γ)\n",
    "\n",
    "μ_opt, r_opt = optimal(5, γ)\n",
    "\n",
    "distance_from_optimal = μ / μ_opt\n",
    "proportion_maximum_gain = r / r_opt"
   ]
  },
  {
   "cell_type": "markdown",
   "metadata": {},
   "source": [
    "Now plot these two measures over participants"
   ]
  },
  {
   "cell_type": "code",
   "execution_count": 16,
   "metadata": {
    "collapsed": false,
    "scrolled": false
   },
   "outputs": [
    {
     "data": {
      "image/png": "[encoded data removed]",
      "text/plain": [
       "<matplotlib.figure.Figure at 0x115fe73c8>"
      ]
     },
     "metadata": {},
     "output_type": "display_data"
    }
   ],
   "source": [
    "participants = fit_results.index.values\n",
    "nparticipants = len(participants)\n",
    "\n",
    "fig, ax = subplots(ncols=2, figsize=(9,5))\n",
    "ax_dist, ax_prop = ax\n",
    "\n",
    "# Plot the distance from optimal measure.\n",
    "ax_dist.bar(range(0,nparticipants), distance_from_optimal, align=\"center\");\n",
    "ax_dist.set_ylabel(\"distance from optimal\", fontsize=22)\n",
    "\n",
    "# Plot the distance from optimal measure.\n",
    "ax_prop.bar(range(0,nparticipants), proportion_maximum_gain, align=\"center\");\n",
    "ax_prop.set_ylabel(\"proportion maximum gain\", fontsize=22)\n",
    "\n",
    "# Mofidy both axes at the same time.\n",
    "for a in ax:\n",
    "    a.set_xticks(range(0, nparticipants))\n",
    "    a.set_xticklabels(participants)\n",
    "    a.set_ylim((0.9, 1))\n",
    "    a.set_xlabel(\"Participant\", fontsize=22)\n",
    "    a.tick_params(labelsize=20)\n",
    "fig.tight_layout()"
   ]
  }
 ],
 "metadata": {
  "kernelspec": {
   "display_name": "Python 3",
   "language": "python",
   "name": "python3"
  },
  "language_info": {
   "codemirror_mode": {
    "name": "ipython",
    "version": 3
   },
   "file_extension": ".py",
   "mimetype": "text/x-python",
   "name": "python",
   "nbconvert_exporter": "python",
   "pygments_lexer": "ipython3",
   "version": "3.4.4"
  }
 },
 "nbformat": 4,
 "nbformat_minor": 0
}
